{
 "cells": [
  {
   "cell_type": "markdown",
   "metadata": {},
   "source": [
    "# Predicting Voter Turnout in North Carolina\n"
   ]
  },
  {
   "cell_type": "markdown",
   "metadata": {},
   "source": [
    "## Data Sources and Data Acquisition: ##\n",
    "\n",
    "### Data is sourced from the NC State Board of Elections\n",
    "\n",
    "### As public documents, voter registration rolls, updated monthly, are available for download via FTP.   ##\n",
    "\n",
    "### Data retrieved:\n",
    "- Voting History = 2009 to 2018:  6,349,795 Voters casting 30,631,198 votes across 67 elections.\n",
    "- Archived Voting History = 2004 to 2013:  6,129,691 Voters casting 28,321,437 votes across 133 elections.\n",
    "- Combined, initial set totals 59 M votes across 200 elections.\n",
    "- N.B. 41,020,973 ballots are cast in all generals (federal/statewide = 35,878,239) (local = 5,142,734)\n",
    "- Total voter registration file totals 7.3 million voters\n",
    "- Inventory uniques to 28,661,855 ballots cast by 7,327,650 voters (3.9 ballots/voter)\n",
    "\n",
    "\n"
   ]
  },
  {
   "cell_type": "code",
   "execution_count": 1,
   "metadata": {},
   "outputs": [],
   "source": [
    "import pandas as pd\n",
    "import seaborn as sns\n",
    "import matplotlib.pyplot as plt\n",
    "import numpy as np\n",
    "\n",
    "from sklearn.linear_model import LogisticRegression\n",
    "from sklearn.tree import DecisionTreeClassifier\n",
    "from sklearn.ensemble import RandomForestClassifier\n",
    "from sklearn.svm import SVC\n",
    "from sklearn.preprocessing import StandardScaler\n",
    "from sklearn.model_selection import train_test_split, ShuffleSplit, GridSearchCV\n",
    "from sklearn.metrics import roc_auc_score, roc_curve, auc\n",
    "\n",
    "import os\n",
    "import time\n",
    "import sys"
   ]
  },
  {
   "cell_type": "markdown",
   "metadata": {},
   "source": [
    "- THIS IS THE SOLUTION for creating new columns (x axis) by iterating over rows in pandas dataframe.\n",
    "- Post processing of this result will rely on mean values for 1/0 vote columns and dedupe via groupby\n",
    "- Preprocessing -- process and automation to be engineered, as well. "
   ]
  },
  {
   "cell_type": "code",
   "execution_count": 2,
   "metadata": {},
   "outputs": [],
   "source": [
    "# LEGACY CODE FROM PREPROCESSING - will iterate  over df, setting vkey as additional x axis and assign int (1/0)\n",
    "#for x in VHStwUnique.vkey.unique():\n",
    "#    VHStwUnique[x]=(VHStwUnique.vkey==x).astype(int)\n",
    "#VHStwUnique.head(100)"
   ]
  },
  {
   "cell_type": "code",
   "execution_count": 3,
   "metadata": {},
   "outputs": [
    {
     "data": {
      "text/html": [
       "<div>\n",
       "<style scoped>\n",
       "    .dataframe tbody tr th:only-of-type {\n",
       "        vertical-align: middle;\n",
       "    }\n",
       "\n",
       "    .dataframe tbody tr th {\n",
       "        vertical-align: top;\n",
       "    }\n",
       "\n",
       "    .dataframe thead th {\n",
       "        text-align: right;\n",
       "    }\n",
       "</style>\n",
       "<table border=\"1\" class=\"dataframe\">\n",
       "  <thead>\n",
       "    <tr style=\"text-align: right;\">\n",
       "      <th></th>\n",
       "      <th>ncid</th>\n",
       "      <th>county</th>\n",
       "      <th>gender</th>\n",
       "      <th>age</th>\n",
       "      <th>race</th>\n",
       "      <th>party</th>\n",
       "      <th>rYear</th>\n",
       "      <th>vdex</th>\n",
       "      <th>vmethod</th>\n",
       "      <th>11022004</th>\n",
       "      <th>11072006</th>\n",
       "      <th>11042008</th>\n",
       "      <th>11022010</th>\n",
       "      <th>11062012</th>\n",
       "      <th>11042014</th>\n",
       "      <th>11082016</th>\n",
       "      <th>11062018</th>\n",
       "    </tr>\n",
       "  </thead>\n",
       "  <tbody>\n",
       "    <tr>\n",
       "      <th>0</th>\n",
       "      <td>AA56273</td>\n",
       "      <td>1</td>\n",
       "      <td>F</td>\n",
       "      <td>83</td>\n",
       "      <td>W</td>\n",
       "      <td>UNA</td>\n",
       "      <td>1984</td>\n",
       "      <td>1.0</td>\n",
       "      <td>0.875</td>\n",
       "      <td>1</td>\n",
       "      <td>1</td>\n",
       "      <td>1</td>\n",
       "      <td>1</td>\n",
       "      <td>1</td>\n",
       "      <td>1</td>\n",
       "      <td>1</td>\n",
       "      <td>1</td>\n",
       "    </tr>\n",
       "    <tr>\n",
       "      <th>1</th>\n",
       "      <td>AA201627</td>\n",
       "      <td>1</td>\n",
       "      <td>F</td>\n",
       "      <td>40</td>\n",
       "      <td>W</td>\n",
       "      <td>UNA</td>\n",
       "      <td>2018</td>\n",
       "      <td>0.0</td>\n",
       "      <td>0.000</td>\n",
       "      <td>0</td>\n",
       "      <td>0</td>\n",
       "      <td>0</td>\n",
       "      <td>0</td>\n",
       "      <td>0</td>\n",
       "      <td>0</td>\n",
       "      <td>0</td>\n",
       "      <td>0</td>\n",
       "    </tr>\n",
       "    <tr>\n",
       "      <th>2</th>\n",
       "      <td>AA98377</td>\n",
       "      <td>1</td>\n",
       "      <td>F</td>\n",
       "      <td>42</td>\n",
       "      <td>W</td>\n",
       "      <td>UNA</td>\n",
       "      <td>1996</td>\n",
       "      <td>1.0</td>\n",
       "      <td>0.500</td>\n",
       "      <td>1</td>\n",
       "      <td>1</td>\n",
       "      <td>1</td>\n",
       "      <td>1</td>\n",
       "      <td>1</td>\n",
       "      <td>1</td>\n",
       "      <td>1</td>\n",
       "      <td>1</td>\n",
       "    </tr>\n",
       "    <tr>\n",
       "      <th>3</th>\n",
       "      <td>AA69747</td>\n",
       "      <td>1</td>\n",
       "      <td>F</td>\n",
       "      <td>73</td>\n",
       "      <td>W</td>\n",
       "      <td>UNA</td>\n",
       "      <td>1989</td>\n",
       "      <td>1.0</td>\n",
       "      <td>0.250</td>\n",
       "      <td>1</td>\n",
       "      <td>1</td>\n",
       "      <td>1</td>\n",
       "      <td>1</td>\n",
       "      <td>1</td>\n",
       "      <td>1</td>\n",
       "      <td>1</td>\n",
       "      <td>1</td>\n",
       "    </tr>\n",
       "    <tr>\n",
       "      <th>4</th>\n",
       "      <td>AA170513</td>\n",
       "      <td>1</td>\n",
       "      <td>M</td>\n",
       "      <td>70</td>\n",
       "      <td>W</td>\n",
       "      <td>DEM</td>\n",
       "      <td>2012</td>\n",
       "      <td>1.0</td>\n",
       "      <td>0.000</td>\n",
       "      <td>0</td>\n",
       "      <td>0</td>\n",
       "      <td>0</td>\n",
       "      <td>0</td>\n",
       "      <td>1</td>\n",
       "      <td>1</td>\n",
       "      <td>1</td>\n",
       "      <td>1</td>\n",
       "    </tr>\n",
       "  </tbody>\n",
       "</table>\n",
       "</div>"
      ],
      "text/plain": [
       "       ncid  county gender  age race party  rYear  vdex  vmethod  11022004  \\\n",
       "0   AA56273       1      F   83    W   UNA   1984   1.0    0.875         1   \n",
       "1  AA201627       1      F   40    W   UNA   2018   0.0    0.000         0   \n",
       "2   AA98377       1      F   42    W   UNA   1996   1.0    0.500         1   \n",
       "3   AA69747       1      F   73    W   UNA   1989   1.0    0.250         1   \n",
       "4  AA170513       1      M   70    W   DEM   2012   1.0    0.000         0   \n",
       "\n",
       "   11072006  11042008  11022010  11062012  11042014  11082016  11062018  \n",
       "0         1         1         1         1         1         1         1  \n",
       "1         0         0         0         0         0         0         0  \n",
       "2         1         1         1         1         1         1         1  \n",
       "3         1         1         1         1         1         1         1  \n",
       "4         0         0         0         1         1         1         1  "
      ]
     },
     "execution_count": 3,
     "metadata": {},
     "output_type": "execute_result"
    }
   ],
   "source": [
    "dfII = pd.read_csv(\"dfIIA.dat\", sep = '|')\n",
    "del dfII['Unnamed: 0']\n",
    "dfII.head()"
   ]
  },
  {
   "cell_type": "code",
   "execution_count": 4,
   "metadata": {},
   "outputs": [],
   "source": [
    "dfII.loc[dfII.vdex > 1, 'vdex'] = 1\n",
    "dfII = dfII.replace([np.inf, -np.inf], np.nan).dropna(axis=0)"
   ]
  },
  {
   "cell_type": "markdown",
   "metadata": {},
   "source": [
    "# Visual Exploration and data prep for modeling"
   ]
  },
  {
   "cell_type": "code",
   "execution_count": 5,
   "metadata": {},
   "outputs": [],
   "source": [
    "cat_cols = [\n",
    "    \"gender\",\n",
    "    \"race\",\n",
    "    \"party\",\n",
    "    \"11022004\",\n",
    "    \"11072006\",\n",
    "    \"11042008\",\n",
    "    \"11022010\",\n",
    "    \"11062012\",\n",
    "    \"11042014\",\n",
    "    \"11082016\",\n",
    "    \"11062018\"\n",
    "]"
   ]
  },
  {
   "cell_type": "code",
   "execution_count": 6,
   "metadata": {},
   "outputs": [],
   "source": [
    "num_cols = [\n",
    "    \"vdex\",\n",
    "    \"vmethod\",\n",
    "    \"age\"\n",
    "   # \"ballots\"\n",
    "]"
   ]
  },
  {
   "cell_type": "code",
   "execution_count": 7,
   "metadata": {},
   "outputs": [
    {
     "name": "stdout",
     "output_type": "stream",
     "text": [
      "gender 0\n",
      "race 0\n",
      "party 0\n",
      "11022004 0\n",
      "11072006 0\n",
      "11042008 0\n",
      "11022010 0\n",
      "11062012 0\n",
      "11042014 0\n",
      "11082016 0\n",
      "11062018 0\n"
     ]
    }
   ],
   "source": [
    "# check for NaN\n",
    "for col in cat_cols:\n",
    "    print(col, len(dfII.loc[dfII[col].isna()]))"
   ]
  },
  {
   "cell_type": "code",
   "execution_count": 8,
   "metadata": {},
   "outputs": [],
   "source": [
    "# checkpoint output\n",
    "dfII.to_csv(\"dfII.dat\", sep = '|', header = True)"
   ]
  },
  {
   "cell_type": "code",
   "execution_count": 9,
   "metadata": {},
   "outputs": [
    {
     "name": "stdout",
     "output_type": "stream",
     "text": [
      "vdex 0\n",
      "vmethod 0\n",
      "age 0\n"
     ]
    }
   ],
   "source": [
    "# check for NaN\n",
    "for col in num_cols:\n",
    "    print(col, len(dfII.loc[dfII[col].isna()]))"
   ]
  },
  {
   "cell_type": "markdown",
   "metadata": {},
   "source": [
    "# VDEX -- Voting Index:\n",
    "## Synthesized datapoint showing ratio or percentage of the number of votes cast by a registrant vs. the number of elections in which they were eligible to vote.\n",
    "\n",
    "## N.B -- Voters voting in 75% or more of eligible elections are good for 3.73M votes! This represents a previous standard method of TO prediction."
   ]
  },
  {
   "cell_type": "code",
   "execution_count": 10,
   "metadata": {},
   "outputs": [
    {
     "data": {
      "text/plain": [
       "1.000000    2489824\n",
       "0.000000    1076798\n",
       "0.500000     892047\n",
       "0.875000     532268\n",
       "0.750000     515536\n",
       "0.625000     344706\n",
       "0.250000     335291\n",
       "0.333333     218000\n",
       "0.375000     206445\n",
       "0.666667     198359\n",
       "0.833333     105922\n",
       "0.125000      69809\n",
       "0.200000      57216\n",
       "0.166667      53724\n",
       "0.400000      46799\n",
       "0.857143      42282\n",
       "0.800000      40372\n",
       "0.600000      40281\n",
       "0.571429      36471\n",
       "0.714286      36066\n",
       "0.428571      35685\n",
       "0.285714      30601\n",
       "0.142857      16872\n",
       "Name: vdex, dtype: int64"
      ]
     },
     "execution_count": 10,
     "metadata": {},
     "output_type": "execute_result"
    }
   ],
   "source": [
    "dfII.vdex.value_counts()"
   ]
  },
  {
   "cell_type": "markdown",
   "metadata": {},
   "source": [
    "\n",
    "### Vdex shows a total of around 49% voting all the time or none of the time!  Also shows an even, declining distribution of voting down the scale. Watch for the value of vdex as a proxy for voting probability going forward."
   ]
  },
  {
   "cell_type": "code",
   "execution_count": 11,
   "metadata": {},
   "outputs": [],
   "source": [
    "vdexP = dfII.vdex.value_counts() / len(dfII)"
   ]
  },
  {
   "cell_type": "code",
   "execution_count": 12,
   "metadata": {},
   "outputs": [
    {
     "data": {
      "text/plain": [
       "Text(0.5,1,'NC vdex - % of eligible ballots voted')"
      ]
     },
     "execution_count": 12,
     "metadata": {},
     "output_type": "execute_result"
    },
    {
     "data": {
      "image/png": "[encoded data removed]",
      "text/plain": [
       "<Figure size 432x288 with 1 Axes>"
      ]
     },
     "metadata": {},
     "output_type": "display_data"
    }
   ],
   "source": [
    "vdexP.plot(kind=\"bar\")\n",
    "plt.title(\"NC vdex - % of eligible ballots voted\")"
   ]
  },
  {
   "cell_type": "markdown",
   "metadata": {},
   "source": [
    "# single variable distributions"
   ]
  },
  {
   "cell_type": "code",
   "execution_count": 13,
   "metadata": {},
   "outputs": [
    {
     "data": {
      "image/png": "[encoded data removed]",
      "text/plain": [
       "<Figure size 432x288 with 1 Axes>"
      ]
     },
     "metadata": {},
     "output_type": "display_data"
    },
    {
     "data": {
      "image/png": "[encoded data removed]",
      "text/plain": [
       "<Figure size 432x288 with 1 Axes>"
      ]
     },
     "metadata": {},
     "output_type": "display_data"
    },
    {
     "data": {
      "image/png": "[encoded data removed]",
      "text/plain": [
       "<Figure size 432x288 with 1 Axes>"
      ]
     },
     "metadata": {},
     "output_type": "display_data"
    }
   ],
   "source": [
    "for col in num_cols:\n",
    "    sns.kdeplot(dfII[col])\n",
    "    plt.show()"
   ]
  },
  {
   "cell_type": "code",
   "execution_count": 14,
   "metadata": {},
   "outputs": [
    {
     "data": {
      "image/png": "[encoded data removed]",
      "text/plain": [
       "<Figure size 432x288 with 1 Axes>"
      ]
     },
     "metadata": {},
     "output_type": "display_data"
    },
    {
     "data": {
      "image/png": "[encoded data removed]",
      "text/plain": [
       "<Figure size 432x288 with 1 Axes>"
      ]
     },
     "metadata": {},
     "output_type": "display_data"
    },
    {
     "data": {
      "image/png": "[encoded data removed]",
      "text/plain": [
       "<Figure size 432x288 with 1 Axes>"
      ]
     },
     "metadata": {},
     "output_type": "display_data"
    }
   ],
   "source": [
    "\n",
    "cat_cols = [\n",
    "    \"gender\",\n",
    "    \"race\",\n",
    "    \"party\"\n",
    "   # \"birth_state\"\n",
    "]\n",
    "\n",
    "for col in cat_cols:\n",
    "    sns.countplot(col, data=dfII)\n",
    "    plt.show()"
   ]
  },
  {
   "cell_type": "markdown",
   "metadata": {},
   "source": [
    "Distributions of gender, race and party registration are consistent with statewide rates for each.  "
   ]
  },
  {
   "cell_type": "markdown",
   "metadata": {},
   "source": [
    "# Exploring Vdex vs..."
   ]
  },
  {
   "cell_type": "code",
   "execution_count": 15,
   "metadata": {},
   "outputs": [],
   "source": [
    "plt.style.use(\"seaborn\")"
   ]
  },
  {
   "cell_type": "markdown",
   "metadata": {},
   "source": [
    "#### This will be a peak at 2018 voting (y_pred) to illustrate the direction of vdex in the prediction"
   ]
  },
  {
   "cell_type": "code",
   "execution_count": 16,
   "metadata": {},
   "outputs": [
    {
     "data": {
      "text/plain": [
       "<matplotlib.axes._subplots.AxesSubplot at 0x1ec541f9898>"
      ]
     },
     "execution_count": 16,
     "metadata": {},
     "output_type": "execute_result"
    },
    {
     "data": {
      "image/png": "[encoded data removed]",
      "text/plain": [
       "<Figure size 576x396 with 1 Axes>"
      ]
     },
     "metadata": {},
     "output_type": "display_data"
    }
   ],
   "source": [
    "sns.violinplot(x=\"vdex\", y=\"11062018\", data=dfII)"
   ]
  },
  {
   "cell_type": "markdown",
   "metadata": {},
   "source": [
    "#### In comparisson to holding vdex against a presidential year's voting, showing much broader distribution"
   ]
  },
  {
   "cell_type": "code",
   "execution_count": 17,
   "metadata": {},
   "outputs": [
    {
     "data": {
      "text/plain": [
       "<matplotlib.axes._subplots.AxesSubplot at 0x1ec544391d0>"
      ]
     },
     "execution_count": 17,
     "metadata": {},
     "output_type": "execute_result"
    },
    {
     "data": {
      "image/png": "[encoded data removed]",
      "text/plain": [
       "<Figure size 576x396 with 1 Axes>"
      ]
     },
     "metadata": {},
     "output_type": "display_data"
    }
   ],
   "source": [
    "sns.violinplot(x=\"vdex\", y=\"11082016\", data=dfII)"
   ]
  },
  {
   "cell_type": "markdown",
   "metadata": {},
   "source": [
    "#### Plot below shows distribution of voting method (0 absentee, 1 at polling place as mean score) vs vdex"
   ]
  },
  {
   "cell_type": "code",
   "execution_count": 18,
   "metadata": {},
   "outputs": [
    {
     "data": {
      "text/plain": [
       "<matplotlib.axes._subplots.AxesSubplot at 0x1ec54291cf8>"
      ]
     },
     "execution_count": 18,
     "metadata": {},
     "output_type": "execute_result"
    },
    {
     "data": {
      "image/png": "[encoded data removed]",
      "text/plain": [
       "<Figure size 576x396 with 1 Axes>"
      ]
     },
     "metadata": {},
     "output_type": "display_data"
    }
   ],
   "source": [
    "sns.violinplot(x=\"vdex\", y=\"vmethod\", data=dfII)"
   ]
  },
  {
   "cell_type": "markdown",
   "metadata": {},
   "source": [
    "# Feature Selection/Feature Importance"
   ]
  },
  {
   "cell_type": "code",
   "execution_count": 19,
   "metadata": {},
   "outputs": [
    {
     "data": {
      "text/plain": [
       "Index(['ncid', 'county', 'gender', 'age', 'race', 'party', 'rYear', 'vdex',\n",
       "       'vmethod', '11022004', '11072006', '11042008', '11022010', '11062012',\n",
       "       '11042014', '11082016', '11062018'],\n",
       "      dtype='object')"
      ]
     },
     "execution_count": 19,
     "metadata": {},
     "output_type": "execute_result"
    }
   ],
   "source": [
    "dfII.columns\n"
   ]
  },
  {
   "cell_type": "code",
   "execution_count": 20,
   "metadata": {},
   "outputs": [],
   "source": [
    "features_to_use = [\n",
    "    \"age\",\n",
    "   \"gender\",\n",
    "    \"race\",\n",
    "    \"party\",\n",
    "    \"vdex\",\n",
    "    \"vmethod\",\n",
    "    \"11022004\",\n",
    "    \"11072006\",\n",
    "    \"11042008\",\n",
    "    \"11022010\",\n",
    "    \"11062012\",\n",
    "    \"11042014\",\n",
    "    \"11082016\"\n",
    "]"
   ]
  },
  {
   "cell_type": "code",
   "execution_count": 21,
   "metadata": {},
   "outputs": [],
   "source": [
    "X = dfII[features_to_use]"
   ]
  },
  {
   "cell_type": "code",
   "execution_count": 22,
   "metadata": {},
   "outputs": [],
   "source": [
    "y = dfII[[\"11062018\"]]"
   ]
  },
  {
   "cell_type": "code",
   "execution_count": 23,
   "metadata": {},
   "outputs": [
    {
     "data": {
      "text/html": [
       "<div>\n",
       "<style scoped>\n",
       "    .dataframe tbody tr th:only-of-type {\n",
       "        vertical-align: middle;\n",
       "    }\n",
       "\n",
       "    .dataframe tbody tr th {\n",
       "        vertical-align: top;\n",
       "    }\n",
       "\n",
       "    .dataframe thead th {\n",
       "        text-align: right;\n",
       "    }\n",
       "</style>\n",
       "<table border=\"1\" class=\"dataframe\">\n",
       "  <thead>\n",
       "    <tr style=\"text-align: right;\">\n",
       "      <th></th>\n",
       "      <th>age</th>\n",
       "      <th>gender</th>\n",
       "      <th>race</th>\n",
       "      <th>party</th>\n",
       "      <th>vdex</th>\n",
       "      <th>vmethod</th>\n",
       "      <th>11022004</th>\n",
       "      <th>11072006</th>\n",
       "      <th>11042008</th>\n",
       "      <th>11022010</th>\n",
       "      <th>11062012</th>\n",
       "      <th>11042014</th>\n",
       "      <th>11082016</th>\n",
       "    </tr>\n",
       "  </thead>\n",
       "  <tbody>\n",
       "    <tr>\n",
       "      <th>0</th>\n",
       "      <td>83</td>\n",
       "      <td>F</td>\n",
       "      <td>W</td>\n",
       "      <td>UNA</td>\n",
       "      <td>1.0</td>\n",
       "      <td>0.875</td>\n",
       "      <td>1</td>\n",
       "      <td>1</td>\n",
       "      <td>1</td>\n",
       "      <td>1</td>\n",
       "      <td>1</td>\n",
       "      <td>1</td>\n",
       "      <td>1</td>\n",
       "    </tr>\n",
       "    <tr>\n",
       "      <th>1</th>\n",
       "      <td>40</td>\n",
       "      <td>F</td>\n",
       "      <td>W</td>\n",
       "      <td>UNA</td>\n",
       "      <td>0.0</td>\n",
       "      <td>0.000</td>\n",
       "      <td>0</td>\n",
       "      <td>0</td>\n",
       "      <td>0</td>\n",
       "      <td>0</td>\n",
       "      <td>0</td>\n",
       "      <td>0</td>\n",
       "      <td>0</td>\n",
       "    </tr>\n",
       "    <tr>\n",
       "      <th>2</th>\n",
       "      <td>42</td>\n",
       "      <td>F</td>\n",
       "      <td>W</td>\n",
       "      <td>UNA</td>\n",
       "      <td>1.0</td>\n",
       "      <td>0.500</td>\n",
       "      <td>1</td>\n",
       "      <td>1</td>\n",
       "      <td>1</td>\n",
       "      <td>1</td>\n",
       "      <td>1</td>\n",
       "      <td>1</td>\n",
       "      <td>1</td>\n",
       "    </tr>\n",
       "    <tr>\n",
       "      <th>3</th>\n",
       "      <td>73</td>\n",
       "      <td>F</td>\n",
       "      <td>W</td>\n",
       "      <td>UNA</td>\n",
       "      <td>1.0</td>\n",
       "      <td>0.250</td>\n",
       "      <td>1</td>\n",
       "      <td>1</td>\n",
       "      <td>1</td>\n",
       "      <td>1</td>\n",
       "      <td>1</td>\n",
       "      <td>1</td>\n",
       "      <td>1</td>\n",
       "    </tr>\n",
       "    <tr>\n",
       "      <th>4</th>\n",
       "      <td>70</td>\n",
       "      <td>M</td>\n",
       "      <td>W</td>\n",
       "      <td>DEM</td>\n",
       "      <td>1.0</td>\n",
       "      <td>0.000</td>\n",
       "      <td>0</td>\n",
       "      <td>0</td>\n",
       "      <td>0</td>\n",
       "      <td>0</td>\n",
       "      <td>1</td>\n",
       "      <td>1</td>\n",
       "      <td>1</td>\n",
       "    </tr>\n",
       "  </tbody>\n",
       "</table>\n",
       "</div>"
      ],
      "text/plain": [
       "   age gender race party  vdex  vmethod  11022004  11072006  11042008  \\\n",
       "0   83      F    W   UNA   1.0    0.875         1         1         1   \n",
       "1   40      F    W   UNA   0.0    0.000         0         0         0   \n",
       "2   42      F    W   UNA   1.0    0.500         1         1         1   \n",
       "3   73      F    W   UNA   1.0    0.250         1         1         1   \n",
       "4   70      M    W   DEM   1.0    0.000         0         0         0   \n",
       "\n",
       "   11022010  11062012  11042014  11082016  \n",
       "0         1         1         1         1  \n",
       "1         0         0         0         0  \n",
       "2         1         1         1         1  \n",
       "3         1         1         1         1  \n",
       "4         0         1         1         1  "
      ]
     },
     "execution_count": 23,
     "metadata": {},
     "output_type": "execute_result"
    }
   ],
   "source": [
    "X.head()"
   ]
  },
  {
   "cell_type": "code",
   "execution_count": 24,
   "metadata": {},
   "outputs": [
    {
     "data": {
      "text/plain": [
       "(7421374, 13)"
      ]
     },
     "execution_count": 24,
     "metadata": {},
     "output_type": "execute_result"
    }
   ],
   "source": [
    "X.shape"
   ]
  },
  {
   "cell_type": "code",
   "execution_count": 25,
   "metadata": {},
   "outputs": [
    {
     "data": {
      "text/html": [
       "<div>\n",
       "<style scoped>\n",
       "    .dataframe tbody tr th:only-of-type {\n",
       "        vertical-align: middle;\n",
       "    }\n",
       "\n",
       "    .dataframe tbody tr th {\n",
       "        vertical-align: top;\n",
       "    }\n",
       "\n",
       "    .dataframe thead th {\n",
       "        text-align: right;\n",
       "    }\n",
       "</style>\n",
       "<table border=\"1\" class=\"dataframe\">\n",
       "  <thead>\n",
       "    <tr style=\"text-align: right;\">\n",
       "      <th></th>\n",
       "      <th>11062018</th>\n",
       "    </tr>\n",
       "  </thead>\n",
       "  <tbody>\n",
       "    <tr>\n",
       "      <th>0</th>\n",
       "      <td>1</td>\n",
       "    </tr>\n",
       "    <tr>\n",
       "      <th>1</th>\n",
       "      <td>0</td>\n",
       "    </tr>\n",
       "    <tr>\n",
       "      <th>2</th>\n",
       "      <td>1</td>\n",
       "    </tr>\n",
       "    <tr>\n",
       "      <th>3</th>\n",
       "      <td>1</td>\n",
       "    </tr>\n",
       "    <tr>\n",
       "      <th>4</th>\n",
       "      <td>1</td>\n",
       "    </tr>\n",
       "  </tbody>\n",
       "</table>\n",
       "</div>"
      ],
      "text/plain": [
       "   11062018\n",
       "0         1\n",
       "1         0\n",
       "2         1\n",
       "3         1\n",
       "4         1"
      ]
     },
     "execution_count": 25,
     "metadata": {},
     "output_type": "execute_result"
    }
   ],
   "source": [
    "y.head()"
   ]
  },
  {
   "cell_type": "code",
   "execution_count": 26,
   "metadata": {},
   "outputs": [
    {
     "data": {
      "text/plain": [
       "(7421374, 1)"
      ]
     },
     "execution_count": 26,
     "metadata": {},
     "output_type": "execute_result"
    }
   ],
   "source": [
    "y.shape"
   ]
  },
  {
   "cell_type": "code",
   "execution_count": 27,
   "metadata": {},
   "outputs": [],
   "source": [
    "X_encoded = pd.get_dummies(X)"
   ]
  },
  {
   "cell_type": "code",
   "execution_count": 28,
   "metadata": {},
   "outputs": [
    {
     "data": {
      "text/plain": [
       "(7421374, 28)"
      ]
     },
     "execution_count": 28,
     "metadata": {},
     "output_type": "execute_result"
    }
   ],
   "source": [
    "\n",
    "X_encoded.shape"
   ]
  },
  {
   "cell_type": "code",
   "execution_count": 29,
   "metadata": {},
   "outputs": [
    {
     "data": {
      "text/plain": [
       "Index(['age', 'vdex', 'vmethod', '11022004', '11072006', '11042008',\n",
       "       '11022010', '11062012', '11042014', '11082016', 'gender_ ', 'gender_F',\n",
       "       'gender_M', 'gender_U', 'race_ ', 'race_A', 'race_B', 'race_I',\n",
       "       'race_M', 'race_O', 'race_U', 'race_W', 'party_CST', 'party_DEM',\n",
       "       'party_GRE', 'party_LIB', 'party_REP', 'party_UNA'],\n",
       "      dtype='object')"
      ]
     },
     "execution_count": 29,
     "metadata": {},
     "output_type": "execute_result"
    }
   ],
   "source": [
    "X_encoded.columns"
   ]
  },
  {
   "cell_type": "markdown",
   "metadata": {},
   "source": [
    "### Inital tests for feature importances"
   ]
  },
  {
   "cell_type": "code",
   "execution_count": 31,
   "metadata": {},
   "outputs": [],
   "source": [
    "X_train, X_test, y_train, y_test = train_test_split(X_encoded, y, random_state=42)"
   ]
  },
  {
   "cell_type": "code",
   "execution_count": 32,
   "metadata": {},
   "outputs": [
    {
     "data": {
      "text/plain": [
       "((5566030, 28), (1855344, 28))"
      ]
     },
     "execution_count": 32,
     "metadata": {},
     "output_type": "execute_result"
    }
   ],
   "source": [
    "X_train.shape, X_test.shape"
   ]
  },
  {
   "cell_type": "code",
   "execution_count": 33,
   "metadata": {},
   "outputs": [
    {
     "data": {
      "text/plain": [
       "((5566030, 1), (1855344, 1))"
      ]
     },
     "execution_count": 33,
     "metadata": {},
     "output_type": "execute_result"
    }
   ],
   "source": [
    "y_train.shape, y_test.shape"
   ]
  },
  {
   "cell_type": "code",
   "execution_count": 34,
   "metadata": {},
   "outputs": [
    {
     "data": {
      "text/html": [
       "<div>\n",
       "<style scoped>\n",
       "    .dataframe tbody tr th:only-of-type {\n",
       "        vertical-align: middle;\n",
       "    }\n",
       "\n",
       "    .dataframe tbody tr th {\n",
       "        vertical-align: top;\n",
       "    }\n",
       "\n",
       "    .dataframe thead th {\n",
       "        text-align: right;\n",
       "    }\n",
       "</style>\n",
       "<table border=\"1\" class=\"dataframe\">\n",
       "  <thead>\n",
       "    <tr style=\"text-align: right;\">\n",
       "      <th></th>\n",
       "      <th>age</th>\n",
       "      <th>vdex</th>\n",
       "      <th>vmethod</th>\n",
       "      <th>11022004</th>\n",
       "      <th>11072006</th>\n",
       "      <th>11042008</th>\n",
       "      <th>11022010</th>\n",
       "      <th>11062012</th>\n",
       "      <th>11042014</th>\n",
       "      <th>11082016</th>\n",
       "      <th>...</th>\n",
       "      <th>race_M</th>\n",
       "      <th>race_O</th>\n",
       "      <th>race_U</th>\n",
       "      <th>race_W</th>\n",
       "      <th>party_CST</th>\n",
       "      <th>party_DEM</th>\n",
       "      <th>party_GRE</th>\n",
       "      <th>party_LIB</th>\n",
       "      <th>party_REP</th>\n",
       "      <th>party_UNA</th>\n",
       "    </tr>\n",
       "  </thead>\n",
       "  <tbody>\n",
       "    <tr>\n",
       "      <th>2604972</th>\n",
       "      <td>34</td>\n",
       "      <td>0.857143</td>\n",
       "      <td>0.500000</td>\n",
       "      <td>1</td>\n",
       "      <td>0</td>\n",
       "      <td>1</td>\n",
       "      <td>0</td>\n",
       "      <td>1</td>\n",
       "      <td>1</td>\n",
       "      <td>1</td>\n",
       "      <td>...</td>\n",
       "      <td>0</td>\n",
       "      <td>0</td>\n",
       "      <td>0</td>\n",
       "      <td>1</td>\n",
       "      <td>0</td>\n",
       "      <td>1</td>\n",
       "      <td>0</td>\n",
       "      <td>0</td>\n",
       "      <td>0</td>\n",
       "      <td>0</td>\n",
       "    </tr>\n",
       "    <tr>\n",
       "      <th>5595571</th>\n",
       "      <td>24</td>\n",
       "      <td>0.250000</td>\n",
       "      <td>1.000000</td>\n",
       "      <td>0</td>\n",
       "      <td>0</td>\n",
       "      <td>0</td>\n",
       "      <td>0</td>\n",
       "      <td>0</td>\n",
       "      <td>0</td>\n",
       "      <td>1</td>\n",
       "      <td>...</td>\n",
       "      <td>0</td>\n",
       "      <td>0</td>\n",
       "      <td>0</td>\n",
       "      <td>0</td>\n",
       "      <td>0</td>\n",
       "      <td>1</td>\n",
       "      <td>0</td>\n",
       "      <td>0</td>\n",
       "      <td>0</td>\n",
       "      <td>0</td>\n",
       "    </tr>\n",
       "    <tr>\n",
       "      <th>1614815</th>\n",
       "      <td>57</td>\n",
       "      <td>0.750000</td>\n",
       "      <td>0.666667</td>\n",
       "      <td>1</td>\n",
       "      <td>1</td>\n",
       "      <td>1</td>\n",
       "      <td>0</td>\n",
       "      <td>1</td>\n",
       "      <td>0</td>\n",
       "      <td>1</td>\n",
       "      <td>...</td>\n",
       "      <td>0</td>\n",
       "      <td>0</td>\n",
       "      <td>0</td>\n",
       "      <td>1</td>\n",
       "      <td>0</td>\n",
       "      <td>1</td>\n",
       "      <td>0</td>\n",
       "      <td>0</td>\n",
       "      <td>0</td>\n",
       "      <td>0</td>\n",
       "    </tr>\n",
       "    <tr>\n",
       "      <th>5454977</th>\n",
       "      <td>47</td>\n",
       "      <td>0.750000</td>\n",
       "      <td>0.666667</td>\n",
       "      <td>0</td>\n",
       "      <td>0</td>\n",
       "      <td>0</td>\n",
       "      <td>0</td>\n",
       "      <td>1</td>\n",
       "      <td>1</td>\n",
       "      <td>1</td>\n",
       "      <td>...</td>\n",
       "      <td>0</td>\n",
       "      <td>1</td>\n",
       "      <td>0</td>\n",
       "      <td>0</td>\n",
       "      <td>0</td>\n",
       "      <td>1</td>\n",
       "      <td>0</td>\n",
       "      <td>0</td>\n",
       "      <td>0</td>\n",
       "      <td>0</td>\n",
       "    </tr>\n",
       "    <tr>\n",
       "      <th>2089516</th>\n",
       "      <td>54</td>\n",
       "      <td>1.000000</td>\n",
       "      <td>0.500000</td>\n",
       "      <td>0</td>\n",
       "      <td>0</td>\n",
       "      <td>0</td>\n",
       "      <td>0</td>\n",
       "      <td>1</td>\n",
       "      <td>0</td>\n",
       "      <td>0</td>\n",
       "      <td>...</td>\n",
       "      <td>0</td>\n",
       "      <td>0</td>\n",
       "      <td>1</td>\n",
       "      <td>0</td>\n",
       "      <td>0</td>\n",
       "      <td>0</td>\n",
       "      <td>0</td>\n",
       "      <td>0</td>\n",
       "      <td>1</td>\n",
       "      <td>0</td>\n",
       "    </tr>\n",
       "  </tbody>\n",
       "</table>\n",
       "<p>5 rows × 28 columns</p>\n",
       "</div>"
      ],
      "text/plain": [
       "         age      vdex   vmethod  11022004  11072006  11042008  11022010  \\\n",
       "2604972   34  0.857143  0.500000         1         0         1         0   \n",
       "5595571   24  0.250000  1.000000         0         0         0         0   \n",
       "1614815   57  0.750000  0.666667         1         1         1         0   \n",
       "5454977   47  0.750000  0.666667         0         0         0         0   \n",
       "2089516   54  1.000000  0.500000         0         0         0         0   \n",
       "\n",
       "         11062012  11042014  11082016    ...      race_M  race_O  race_U  \\\n",
       "2604972         1         1         1    ...           0       0       0   \n",
       "5595571         0         0         1    ...           0       0       0   \n",
       "1614815         1         0         1    ...           0       0       0   \n",
       "5454977         1         1         1    ...           0       1       0   \n",
       "2089516         1         0         0    ...           0       0       1   \n",
       "\n",
       "         race_W  party_CST  party_DEM  party_GRE  party_LIB  party_REP  \\\n",
       "2604972       1          0          1          0          0          0   \n",
       "5595571       0          0          1          0          0          0   \n",
       "1614815       1          0          1          0          0          0   \n",
       "5454977       0          0          1          0          0          0   \n",
       "2089516       0          0          0          0          0          1   \n",
       "\n",
       "         party_UNA  \n",
       "2604972          0  \n",
       "5595571          0  \n",
       "1614815          0  \n",
       "5454977          0  \n",
       "2089516          0  \n",
       "\n",
       "[5 rows x 28 columns]"
      ]
     },
     "execution_count": 34,
     "metadata": {},
     "output_type": "execute_result"
    }
   ],
   "source": [
    "X_train.head()"
   ]
  },
  {
   "cell_type": "code",
   "execution_count": 35,
   "metadata": {},
   "outputs": [],
   "source": [
    "# normalize\n",
    "sds = StandardScaler()\n",
    "sds.fit(X_train)\n",
    "X_train = sds.transform(X_train)\n",
    "X_test = sds.transform(X_test)"
   ]
  },
  {
   "cell_type": "code",
   "execution_count": 36,
   "metadata": {},
   "outputs": [
    {
     "data": {
      "text/html": [
       "<div>\n",
       "<style scoped>\n",
       "    .dataframe tbody tr th:only-of-type {\n",
       "        vertical-align: middle;\n",
       "    }\n",
       "\n",
       "    .dataframe tbody tr th {\n",
       "        vertical-align: top;\n",
       "    }\n",
       "\n",
       "    .dataframe thead th {\n",
       "        text-align: right;\n",
       "    }\n",
       "</style>\n",
       "<table border=\"1\" class=\"dataframe\">\n",
       "  <thead>\n",
       "    <tr style=\"text-align: right;\">\n",
       "      <th></th>\n",
       "      <th>0</th>\n",
       "      <th>1</th>\n",
       "      <th>2</th>\n",
       "      <th>3</th>\n",
       "      <th>4</th>\n",
       "      <th>5</th>\n",
       "      <th>6</th>\n",
       "      <th>7</th>\n",
       "      <th>8</th>\n",
       "      <th>9</th>\n",
       "      <th>...</th>\n",
       "      <th>18</th>\n",
       "      <th>19</th>\n",
       "      <th>20</th>\n",
       "      <th>21</th>\n",
       "      <th>22</th>\n",
       "      <th>23</th>\n",
       "      <th>24</th>\n",
       "      <th>25</th>\n",
       "      <th>26</th>\n",
       "      <th>27</th>\n",
       "    </tr>\n",
       "  </thead>\n",
       "  <tbody>\n",
       "    <tr>\n",
       "      <th>count</th>\n",
       "      <td>5.566030e+06</td>\n",
       "      <td>5.566030e+06</td>\n",
       "      <td>5.566030e+06</td>\n",
       "      <td>5.566030e+06</td>\n",
       "      <td>5.566030e+06</td>\n",
       "      <td>5.566030e+06</td>\n",
       "      <td>5.566030e+06</td>\n",
       "      <td>5.566030e+06</td>\n",
       "      <td>5.566030e+06</td>\n",
       "      <td>5.566030e+06</td>\n",
       "      <td>...</td>\n",
       "      <td>5.566030e+06</td>\n",
       "      <td>5.566030e+06</td>\n",
       "      <td>5.566030e+06</td>\n",
       "      <td>5.566030e+06</td>\n",
       "      <td>5.566030e+06</td>\n",
       "      <td>5.566030e+06</td>\n",
       "      <td>5.566030e+06</td>\n",
       "      <td>5.566030e+06</td>\n",
       "      <td>5.566030e+06</td>\n",
       "      <td>5.566030e+06</td>\n",
       "    </tr>\n",
       "    <tr>\n",
       "      <th>mean</th>\n",
       "      <td>6.417852e-16</td>\n",
       "      <td>4.965598e-16</td>\n",
       "      <td>-7.763321e-15</td>\n",
       "      <td>3.452988e-14</td>\n",
       "      <td>2.622272e-14</td>\n",
       "      <td>-5.482231e-15</td>\n",
       "      <td>3.567527e-15</td>\n",
       "      <td>8.188221e-15</td>\n",
       "      <td>2.914956e-14</td>\n",
       "      <td>4.956674e-14</td>\n",
       "      <td>...</td>\n",
       "      <td>1.037591e-14</td>\n",
       "      <td>1.011155e-14</td>\n",
       "      <td>1.417713e-14</td>\n",
       "      <td>-1.279470e-15</td>\n",
       "      <td>1.012450e-14</td>\n",
       "      <td>-3.108036e-15</td>\n",
       "      <td>7.389824e-16</td>\n",
       "      <td>1.184712e-14</td>\n",
       "      <td>1.816654e-15</td>\n",
       "      <td>-5.710496e-15</td>\n",
       "    </tr>\n",
       "    <tr>\n",
       "      <th>std</th>\n",
       "      <td>1.000000e+00</td>\n",
       "      <td>1.000000e+00</td>\n",
       "      <td>1.000000e+00</td>\n",
       "      <td>1.000000e+00</td>\n",
       "      <td>1.000000e+00</td>\n",
       "      <td>1.000000e+00</td>\n",
       "      <td>1.000000e+00</td>\n",
       "      <td>1.000000e+00</td>\n",
       "      <td>1.000000e+00</td>\n",
       "      <td>1.000000e+00</td>\n",
       "      <td>...</td>\n",
       "      <td>1.000000e+00</td>\n",
       "      <td>1.000000e+00</td>\n",
       "      <td>1.000000e+00</td>\n",
       "      <td>1.000000e+00</td>\n",
       "      <td>1.000000e+00</td>\n",
       "      <td>1.000000e+00</td>\n",
       "      <td>1.000000e+00</td>\n",
       "      <td>1.000000e+00</td>\n",
       "      <td>1.000000e+00</td>\n",
       "      <td>1.000000e+00</td>\n",
       "    </tr>\n",
       "    <tr>\n",
       "      <th>min</th>\n",
       "      <td>-1.703418e+00</td>\n",
       "      <td>-1.747904e+00</td>\n",
       "      <td>-1.086251e+00</td>\n",
       "      <td>-7.982002e-01</td>\n",
       "      <td>-5.709296e-01</td>\n",
       "      <td>-1.049321e+00</td>\n",
       "      <td>-7.550497e-01</td>\n",
       "      <td>-1.252075e+00</td>\n",
       "      <td>-8.092982e-01</td>\n",
       "      <td>-1.339789e+00</td>\n",
       "      <td>...</td>\n",
       "      <td>-8.250697e-02</td>\n",
       "      <td>-1.625468e-01</td>\n",
       "      <td>-2.127018e-01</td>\n",
       "      <td>-1.470873e+00</td>\n",
       "      <td>-1.127902e-02</td>\n",
       "      <td>-7.901213e-01</td>\n",
       "      <td>-1.190684e-02</td>\n",
       "      <td>-7.272070e-02</td>\n",
       "      <td>-6.540231e-01</td>\n",
       "      <td>-6.711077e-01</td>\n",
       "    </tr>\n",
       "    <tr>\n",
       "      <th>25%</th>\n",
       "      <td>-8.797330e-01</td>\n",
       "      <td>-8.226353e-01</td>\n",
       "      <td>-1.086251e+00</td>\n",
       "      <td>-7.982002e-01</td>\n",
       "      <td>-5.709296e-01</td>\n",
       "      <td>-1.049321e+00</td>\n",
       "      <td>-7.550497e-01</td>\n",
       "      <td>-1.252075e+00</td>\n",
       "      <td>-8.092982e-01</td>\n",
       "      <td>-1.339789e+00</td>\n",
       "      <td>...</td>\n",
       "      <td>-8.250697e-02</td>\n",
       "      <td>-1.625468e-01</td>\n",
       "      <td>-2.127018e-01</td>\n",
       "      <td>-1.470873e+00</td>\n",
       "      <td>-1.127902e-02</td>\n",
       "      <td>-7.901213e-01</td>\n",
       "      <td>-1.190684e-02</td>\n",
       "      <td>-7.272070e-02</td>\n",
       "      <td>-6.540231e-01</td>\n",
       "      <td>-6.711077e-01</td>\n",
       "    </tr>\n",
       "    <tr>\n",
       "      <th>50%</th>\n",
       "      <td>-4.567692e-03</td>\n",
       "      <td>3.339508e-01</td>\n",
       "      <td>-1.121080e-01</td>\n",
       "      <td>-7.982002e-01</td>\n",
       "      <td>-5.709296e-01</td>\n",
       "      <td>9.529969e-01</td>\n",
       "      <td>-7.550497e-01</td>\n",
       "      <td>7.986741e-01</td>\n",
       "      <td>-8.092982e-01</td>\n",
       "      <td>7.463864e-01</td>\n",
       "      <td>...</td>\n",
       "      <td>-8.250697e-02</td>\n",
       "      <td>-1.625468e-01</td>\n",
       "      <td>-2.127018e-01</td>\n",
       "      <td>6.798683e-01</td>\n",
       "      <td>-1.127902e-02</td>\n",
       "      <td>-7.901213e-01</td>\n",
       "      <td>-1.190684e-02</td>\n",
       "      <td>-7.272070e-02</td>\n",
       "      <td>-6.540231e-01</td>\n",
       "      <td>-6.711077e-01</td>\n",
       "    </tr>\n",
       "    <tr>\n",
       "      <th>75%</th>\n",
       "      <td>7.676370e-01</td>\n",
       "      <td>1.027902e+00</td>\n",
       "      <td>8.620347e-01</td>\n",
       "      <td>1.252819e+00</td>\n",
       "      <td>-5.709296e-01</td>\n",
       "      <td>9.529969e-01</td>\n",
       "      <td>1.324416e+00</td>\n",
       "      <td>7.986741e-01</td>\n",
       "      <td>1.235638e+00</td>\n",
       "      <td>7.463864e-01</td>\n",
       "      <td>...</td>\n",
       "      <td>-8.250697e-02</td>\n",
       "      <td>-1.625468e-01</td>\n",
       "      <td>-2.127018e-01</td>\n",
       "      <td>6.798683e-01</td>\n",
       "      <td>-1.127902e-02</td>\n",
       "      <td>1.265628e+00</td>\n",
       "      <td>-1.190684e-02</td>\n",
       "      <td>-7.272070e-02</td>\n",
       "      <td>1.528998e+00</td>\n",
       "      <td>1.490074e+00</td>\n",
       "    </tr>\n",
       "    <tr>\n",
       "      <th>max</th>\n",
       "      <td>9.879652e+00</td>\n",
       "      <td>1.027902e+00</td>\n",
       "      <td>1.511463e+00</td>\n",
       "      <td>1.252819e+00</td>\n",
       "      <td>1.751529e+00</td>\n",
       "      <td>9.529969e-01</td>\n",
       "      <td>1.324416e+00</td>\n",
       "      <td>7.986741e-01</td>\n",
       "      <td>1.235638e+00</td>\n",
       "      <td>7.463864e-01</td>\n",
       "      <td>...</td>\n",
       "      <td>1.212019e+01</td>\n",
       "      <td>6.152076e+00</td>\n",
       "      <td>4.701417e+00</td>\n",
       "      <td>6.798683e-01</td>\n",
       "      <td>8.866016e+01</td>\n",
       "      <td>1.265628e+00</td>\n",
       "      <td>8.398534e+01</td>\n",
       "      <td>1.375124e+01</td>\n",
       "      <td>1.528998e+00</td>\n",
       "      <td>1.490074e+00</td>\n",
       "    </tr>\n",
       "  </tbody>\n",
       "</table>\n",
       "<p>8 rows × 28 columns</p>\n",
       "</div>"
      ],
      "text/plain": [
       "                 0             1             2             3             4   \\\n",
       "count  5.566030e+06  5.566030e+06  5.566030e+06  5.566030e+06  5.566030e+06   \n",
       "mean   6.417852e-16  4.965598e-16 -7.763321e-15  3.452988e-14  2.622272e-14   \n",
       "std    1.000000e+00  1.000000e+00  1.000000e+00  1.000000e+00  1.000000e+00   \n",
       "min   -1.703418e+00 -1.747904e+00 -1.086251e+00 -7.982002e-01 -5.709296e-01   \n",
       "25%   -8.797330e-01 -8.226353e-01 -1.086251e+00 -7.982002e-01 -5.709296e-01   \n",
       "50%   -4.567692e-03  3.339508e-01 -1.121080e-01 -7.982002e-01 -5.709296e-01   \n",
       "75%    7.676370e-01  1.027902e+00  8.620347e-01  1.252819e+00 -5.709296e-01   \n",
       "max    9.879652e+00  1.027902e+00  1.511463e+00  1.252819e+00  1.751529e+00   \n",
       "\n",
       "                 5             6             7             8             9   \\\n",
       "count  5.566030e+06  5.566030e+06  5.566030e+06  5.566030e+06  5.566030e+06   \n",
       "mean  -5.482231e-15  3.567527e-15  8.188221e-15  2.914956e-14  4.956674e-14   \n",
       "std    1.000000e+00  1.000000e+00  1.000000e+00  1.000000e+00  1.000000e+00   \n",
       "min   -1.049321e+00 -7.550497e-01 -1.252075e+00 -8.092982e-01 -1.339789e+00   \n",
       "25%   -1.049321e+00 -7.550497e-01 -1.252075e+00 -8.092982e-01 -1.339789e+00   \n",
       "50%    9.529969e-01 -7.550497e-01  7.986741e-01 -8.092982e-01  7.463864e-01   \n",
       "75%    9.529969e-01  1.324416e+00  7.986741e-01  1.235638e+00  7.463864e-01   \n",
       "max    9.529969e-01  1.324416e+00  7.986741e-01  1.235638e+00  7.463864e-01   \n",
       "\n",
       "           ...                 18            19            20            21  \\\n",
       "count      ...       5.566030e+06  5.566030e+06  5.566030e+06  5.566030e+06   \n",
       "mean       ...       1.037591e-14  1.011155e-14  1.417713e-14 -1.279470e-15   \n",
       "std        ...       1.000000e+00  1.000000e+00  1.000000e+00  1.000000e+00   \n",
       "min        ...      -8.250697e-02 -1.625468e-01 -2.127018e-01 -1.470873e+00   \n",
       "25%        ...      -8.250697e-02 -1.625468e-01 -2.127018e-01 -1.470873e+00   \n",
       "50%        ...      -8.250697e-02 -1.625468e-01 -2.127018e-01  6.798683e-01   \n",
       "75%        ...      -8.250697e-02 -1.625468e-01 -2.127018e-01  6.798683e-01   \n",
       "max        ...       1.212019e+01  6.152076e+00  4.701417e+00  6.798683e-01   \n",
       "\n",
       "                 22            23            24            25            26  \\\n",
       "count  5.566030e+06  5.566030e+06  5.566030e+06  5.566030e+06  5.566030e+06   \n",
       "mean   1.012450e-14 -3.108036e-15  7.389824e-16  1.184712e-14  1.816654e-15   \n",
       "std    1.000000e+00  1.000000e+00  1.000000e+00  1.000000e+00  1.000000e+00   \n",
       "min   -1.127902e-02 -7.901213e-01 -1.190684e-02 -7.272070e-02 -6.540231e-01   \n",
       "25%   -1.127902e-02 -7.901213e-01 -1.190684e-02 -7.272070e-02 -6.540231e-01   \n",
       "50%   -1.127902e-02 -7.901213e-01 -1.190684e-02 -7.272070e-02 -6.540231e-01   \n",
       "75%   -1.127902e-02  1.265628e+00 -1.190684e-02 -7.272070e-02  1.528998e+00   \n",
       "max    8.866016e+01  1.265628e+00  8.398534e+01  1.375124e+01  1.528998e+00   \n",
       "\n",
       "                 27  \n",
       "count  5.566030e+06  \n",
       "mean  -5.710496e-15  \n",
       "std    1.000000e+00  \n",
       "min   -6.711077e-01  \n",
       "25%   -6.711077e-01  \n",
       "50%   -6.711077e-01  \n",
       "75%    1.490074e+00  \n",
       "max    1.490074e+00  \n",
       "\n",
       "[8 rows x 28 columns]"
      ]
     },
     "execution_count": 36,
     "metadata": {},
     "output_type": "execute_result"
    }
   ],
   "source": [
    "pd.DataFrame(X_train).describe()"
   ]
  },
  {
   "cell_type": "code",
   "execution_count": 37,
   "metadata": {},
   "outputs": [
    {
     "data": {
      "text/plain": [
       "False"
      ]
     },
     "execution_count": 37,
     "metadata": {},
     "output_type": "execute_result"
    }
   ],
   "source": [
    "# double check for null values in X_train (transform fail is negative)\n",
    "pd.isnull(X_train).sum() > 0"
   ]
  },
  {
   "cell_type": "code",
   "execution_count": 38,
   "metadata": {},
   "outputs": [
    {
     "data": {
      "text/html": [
       "<div>\n",
       "<style scoped>\n",
       "    .dataframe tbody tr th:only-of-type {\n",
       "        vertical-align: middle;\n",
       "    }\n",
       "\n",
       "    .dataframe tbody tr th {\n",
       "        vertical-align: top;\n",
       "    }\n",
       "\n",
       "    .dataframe thead th {\n",
       "        text-align: right;\n",
       "    }\n",
       "</style>\n",
       "<table border=\"1\" class=\"dataframe\">\n",
       "  <thead>\n",
       "    <tr style=\"text-align: right;\">\n",
       "      <th></th>\n",
       "      <th>0</th>\n",
       "      <th>1</th>\n",
       "      <th>2</th>\n",
       "      <th>3</th>\n",
       "      <th>4</th>\n",
       "      <th>5</th>\n",
       "      <th>6</th>\n",
       "      <th>7</th>\n",
       "      <th>8</th>\n",
       "      <th>9</th>\n",
       "      <th>...</th>\n",
       "      <th>18</th>\n",
       "      <th>19</th>\n",
       "      <th>20</th>\n",
       "      <th>21</th>\n",
       "      <th>22</th>\n",
       "      <th>23</th>\n",
       "      <th>24</th>\n",
       "      <th>25</th>\n",
       "      <th>26</th>\n",
       "      <th>27</th>\n",
       "    </tr>\n",
       "  </thead>\n",
       "  <tbody>\n",
       "    <tr>\n",
       "      <th>count</th>\n",
       "      <td>1.855344e+06</td>\n",
       "      <td>1.855344e+06</td>\n",
       "      <td>1.855344e+06</td>\n",
       "      <td>1.855344e+06</td>\n",
       "      <td>1.855344e+06</td>\n",
       "      <td>1.855344e+06</td>\n",
       "      <td>1.855344e+06</td>\n",
       "      <td>1.855344e+06</td>\n",
       "      <td>1.855344e+06</td>\n",
       "      <td>1.855344e+06</td>\n",
       "      <td>...</td>\n",
       "      <td>1.855344e+06</td>\n",
       "      <td>1.855344e+06</td>\n",
       "      <td>1.855344e+06</td>\n",
       "      <td>1.855344e+06</td>\n",
       "      <td>1.855344e+06</td>\n",
       "      <td>1.855344e+06</td>\n",
       "      <td>1.855344e+06</td>\n",
       "      <td>1.855344e+06</td>\n",
       "      <td>1.855344e+06</td>\n",
       "      <td>1.855344e+06</td>\n",
       "    </tr>\n",
       "    <tr>\n",
       "      <th>mean</th>\n",
       "      <td>-9.923192e-04</td>\n",
       "      <td>-2.234289e-03</td>\n",
       "      <td>-9.016703e-04</td>\n",
       "      <td>-2.253962e-03</td>\n",
       "      <td>-1.261569e-03</td>\n",
       "      <td>-1.823894e-03</td>\n",
       "      <td>-1.086698e-03</td>\n",
       "      <td>-5.398462e-04</td>\n",
       "      <td>-1.317772e-03</td>\n",
       "      <td>-2.786030e-03</td>\n",
       "      <td>...</td>\n",
       "      <td>-2.414551e-05</td>\n",
       "      <td>1.470244e-03</td>\n",
       "      <td>-9.226824e-04</td>\n",
       "      <td>-7.331520e-04</td>\n",
       "      <td>4.778840e-05</td>\n",
       "      <td>-4.575249e-04</td>\n",
       "      <td>1.086551e-03</td>\n",
       "      <td>3.427148e-04</td>\n",
       "      <td>3.205880e-04</td>\n",
       "      <td>8.090947e-05</td>\n",
       "    </tr>\n",
       "    <tr>\n",
       "      <th>std</th>\n",
       "      <td>1.000162e+00</td>\n",
       "      <td>1.000881e+00</td>\n",
       "      <td>9.997452e-01</td>\n",
       "      <td>9.994853e-01</td>\n",
       "      <td>9.992545e-01</td>\n",
       "      <td>1.000086e+00</td>\n",
       "      <td>9.996903e-01</td>\n",
       "      <td>1.000122e+00</td>\n",
       "      <td>9.997185e-01</td>\n",
       "      <td>1.000823e+00</td>\n",
       "      <td>...</td>\n",
       "      <td>9.998549e-01</td>\n",
       "      <td>1.004393e+00</td>\n",
       "      <td>9.979269e-01</td>\n",
       "      <td>1.000290e+00</td>\n",
       "      <td>1.002116e+00</td>\n",
       "      <td>9.998914e-01</td>\n",
       "      <td>1.044625e+00</td>\n",
       "      <td>1.002341e+00</td>\n",
       "      <td>1.000140e+00</td>\n",
       "      <td>1.000033e+00</td>\n",
       "    </tr>\n",
       "    <tr>\n",
       "      <th>min</th>\n",
       "      <td>-1.703418e+00</td>\n",
       "      <td>-1.747904e+00</td>\n",
       "      <td>-1.086251e+00</td>\n",
       "      <td>-7.982002e-01</td>\n",
       "      <td>-5.709296e-01</td>\n",
       "      <td>-1.049321e+00</td>\n",
       "      <td>-7.550497e-01</td>\n",
       "      <td>-1.252075e+00</td>\n",
       "      <td>-8.092982e-01</td>\n",
       "      <td>-1.339789e+00</td>\n",
       "      <td>...</td>\n",
       "      <td>-8.250697e-02</td>\n",
       "      <td>-1.625468e-01</td>\n",
       "      <td>-2.127018e-01</td>\n",
       "      <td>-1.470873e+00</td>\n",
       "      <td>-1.127902e-02</td>\n",
       "      <td>-7.901213e-01</td>\n",
       "      <td>-1.190684e-02</td>\n",
       "      <td>-7.272070e-02</td>\n",
       "      <td>-6.540231e-01</td>\n",
       "      <td>-6.711077e-01</td>\n",
       "    </tr>\n",
       "    <tr>\n",
       "      <th>25%</th>\n",
       "      <td>-8.797330e-01</td>\n",
       "      <td>-8.226353e-01</td>\n",
       "      <td>-1.086251e+00</td>\n",
       "      <td>-7.982002e-01</td>\n",
       "      <td>-5.709296e-01</td>\n",
       "      <td>-1.049321e+00</td>\n",
       "      <td>-7.550497e-01</td>\n",
       "      <td>-1.252075e+00</td>\n",
       "      <td>-8.092982e-01</td>\n",
       "      <td>-1.339789e+00</td>\n",
       "      <td>...</td>\n",
       "      <td>-8.250697e-02</td>\n",
       "      <td>-1.625468e-01</td>\n",
       "      <td>-2.127018e-01</td>\n",
       "      <td>-1.470873e+00</td>\n",
       "      <td>-1.127902e-02</td>\n",
       "      <td>-7.901213e-01</td>\n",
       "      <td>-1.190684e-02</td>\n",
       "      <td>-7.272070e-02</td>\n",
       "      <td>-6.540231e-01</td>\n",
       "      <td>-6.711077e-01</td>\n",
       "    </tr>\n",
       "    <tr>\n",
       "      <th>50%</th>\n",
       "      <td>-4.567692e-03</td>\n",
       "      <td>3.339508e-01</td>\n",
       "      <td>-1.121080e-01</td>\n",
       "      <td>-7.982002e-01</td>\n",
       "      <td>-5.709296e-01</td>\n",
       "      <td>9.529969e-01</td>\n",
       "      <td>-7.550497e-01</td>\n",
       "      <td>7.986741e-01</td>\n",
       "      <td>-8.092982e-01</td>\n",
       "      <td>7.463864e-01</td>\n",
       "      <td>...</td>\n",
       "      <td>-8.250697e-02</td>\n",
       "      <td>-1.625468e-01</td>\n",
       "      <td>-2.127018e-01</td>\n",
       "      <td>6.798683e-01</td>\n",
       "      <td>-1.127902e-02</td>\n",
       "      <td>-7.901213e-01</td>\n",
       "      <td>-1.190684e-02</td>\n",
       "      <td>-7.272070e-02</td>\n",
       "      <td>-6.540231e-01</td>\n",
       "      <td>-6.711077e-01</td>\n",
       "    </tr>\n",
       "    <tr>\n",
       "      <th>75%</th>\n",
       "      <td>7.676370e-01</td>\n",
       "      <td>1.027902e+00</td>\n",
       "      <td>8.620347e-01</td>\n",
       "      <td>1.252819e+00</td>\n",
       "      <td>-5.709296e-01</td>\n",
       "      <td>9.529969e-01</td>\n",
       "      <td>1.324416e+00</td>\n",
       "      <td>7.986741e-01</td>\n",
       "      <td>1.235638e+00</td>\n",
       "      <td>7.463864e-01</td>\n",
       "      <td>...</td>\n",
       "      <td>-8.250697e-02</td>\n",
       "      <td>-1.625468e-01</td>\n",
       "      <td>-2.127018e-01</td>\n",
       "      <td>6.798683e-01</td>\n",
       "      <td>-1.127902e-02</td>\n",
       "      <td>1.265628e+00</td>\n",
       "      <td>-1.190684e-02</td>\n",
       "      <td>-7.272070e-02</td>\n",
       "      <td>1.528998e+00</td>\n",
       "      <td>1.490074e+00</td>\n",
       "    </tr>\n",
       "    <tr>\n",
       "      <th>max</th>\n",
       "      <td>4.319778e+00</td>\n",
       "      <td>1.027902e+00</td>\n",
       "      <td>1.511463e+00</td>\n",
       "      <td>1.252819e+00</td>\n",
       "      <td>1.751529e+00</td>\n",
       "      <td>9.529969e-01</td>\n",
       "      <td>1.324416e+00</td>\n",
       "      <td>7.986741e-01</td>\n",
       "      <td>1.235638e+00</td>\n",
       "      <td>7.463864e-01</td>\n",
       "      <td>...</td>\n",
       "      <td>1.212019e+01</td>\n",
       "      <td>6.152076e+00</td>\n",
       "      <td>4.701417e+00</td>\n",
       "      <td>6.798683e-01</td>\n",
       "      <td>8.866016e+01</td>\n",
       "      <td>1.265628e+00</td>\n",
       "      <td>8.398534e+01</td>\n",
       "      <td>1.375124e+01</td>\n",
       "      <td>1.528998e+00</td>\n",
       "      <td>1.490074e+00</td>\n",
       "    </tr>\n",
       "  </tbody>\n",
       "</table>\n",
       "<p>8 rows × 28 columns</p>\n",
       "</div>"
      ],
      "text/plain": [
       "                 0             1             2             3             4   \\\n",
       "count  1.855344e+06  1.855344e+06  1.855344e+06  1.855344e+06  1.855344e+06   \n",
       "mean  -9.923192e-04 -2.234289e-03 -9.016703e-04 -2.253962e-03 -1.261569e-03   \n",
       "std    1.000162e+00  1.000881e+00  9.997452e-01  9.994853e-01  9.992545e-01   \n",
       "min   -1.703418e+00 -1.747904e+00 -1.086251e+00 -7.982002e-01 -5.709296e-01   \n",
       "25%   -8.797330e-01 -8.226353e-01 -1.086251e+00 -7.982002e-01 -5.709296e-01   \n",
       "50%   -4.567692e-03  3.339508e-01 -1.121080e-01 -7.982002e-01 -5.709296e-01   \n",
       "75%    7.676370e-01  1.027902e+00  8.620347e-01  1.252819e+00 -5.709296e-01   \n",
       "max    4.319778e+00  1.027902e+00  1.511463e+00  1.252819e+00  1.751529e+00   \n",
       "\n",
       "                 5             6             7             8             9   \\\n",
       "count  1.855344e+06  1.855344e+06  1.855344e+06  1.855344e+06  1.855344e+06   \n",
       "mean  -1.823894e-03 -1.086698e-03 -5.398462e-04 -1.317772e-03 -2.786030e-03   \n",
       "std    1.000086e+00  9.996903e-01  1.000122e+00  9.997185e-01  1.000823e+00   \n",
       "min   -1.049321e+00 -7.550497e-01 -1.252075e+00 -8.092982e-01 -1.339789e+00   \n",
       "25%   -1.049321e+00 -7.550497e-01 -1.252075e+00 -8.092982e-01 -1.339789e+00   \n",
       "50%    9.529969e-01 -7.550497e-01  7.986741e-01 -8.092982e-01  7.463864e-01   \n",
       "75%    9.529969e-01  1.324416e+00  7.986741e-01  1.235638e+00  7.463864e-01   \n",
       "max    9.529969e-01  1.324416e+00  7.986741e-01  1.235638e+00  7.463864e-01   \n",
       "\n",
       "           ...                 18            19            20            21  \\\n",
       "count      ...       1.855344e+06  1.855344e+06  1.855344e+06  1.855344e+06   \n",
       "mean       ...      -2.414551e-05  1.470244e-03 -9.226824e-04 -7.331520e-04   \n",
       "std        ...       9.998549e-01  1.004393e+00  9.979269e-01  1.000290e+00   \n",
       "min        ...      -8.250697e-02 -1.625468e-01 -2.127018e-01 -1.470873e+00   \n",
       "25%        ...      -8.250697e-02 -1.625468e-01 -2.127018e-01 -1.470873e+00   \n",
       "50%        ...      -8.250697e-02 -1.625468e-01 -2.127018e-01  6.798683e-01   \n",
       "75%        ...      -8.250697e-02 -1.625468e-01 -2.127018e-01  6.798683e-01   \n",
       "max        ...       1.212019e+01  6.152076e+00  4.701417e+00  6.798683e-01   \n",
       "\n",
       "                 22            23            24            25            26  \\\n",
       "count  1.855344e+06  1.855344e+06  1.855344e+06  1.855344e+06  1.855344e+06   \n",
       "mean   4.778840e-05 -4.575249e-04  1.086551e-03  3.427148e-04  3.205880e-04   \n",
       "std    1.002116e+00  9.998914e-01  1.044625e+00  1.002341e+00  1.000140e+00   \n",
       "min   -1.127902e-02 -7.901213e-01 -1.190684e-02 -7.272070e-02 -6.540231e-01   \n",
       "25%   -1.127902e-02 -7.901213e-01 -1.190684e-02 -7.272070e-02 -6.540231e-01   \n",
       "50%   -1.127902e-02 -7.901213e-01 -1.190684e-02 -7.272070e-02 -6.540231e-01   \n",
       "75%   -1.127902e-02  1.265628e+00 -1.190684e-02 -7.272070e-02  1.528998e+00   \n",
       "max    8.866016e+01  1.265628e+00  8.398534e+01  1.375124e+01  1.528998e+00   \n",
       "\n",
       "                 27  \n",
       "count  1.855344e+06  \n",
       "mean   8.090947e-05  \n",
       "std    1.000033e+00  \n",
       "min   -6.711077e-01  \n",
       "25%   -6.711077e-01  \n",
       "50%   -6.711077e-01  \n",
       "75%    1.490074e+00  \n",
       "max    1.490074e+00  \n",
       "\n",
       "[8 rows x 28 columns]"
      ]
     },
     "execution_count": 38,
     "metadata": {},
     "output_type": "execute_result"
    }
   ],
   "source": [
    "pd.DataFrame(X_test).describe()"
   ]
  },
  {
   "cell_type": "code",
   "execution_count": 39,
   "metadata": {},
   "outputs": [
    {
     "data": {
      "text/plain": [
       "False"
      ]
     },
     "execution_count": 39,
     "metadata": {},
     "output_type": "execute_result"
    }
   ],
   "source": [
    "# double check for null values in X_test (transform fail is negative)\n",
    "pd.isnull(X_test).sum() > 0"
   ]
  },
  {
   "cell_type": "markdown",
   "metadata": {},
   "source": [
    "### Deploy DecisionTreeCLF for fitness and a look at feature importance"
   ]
  },
  {
   "cell_type": "code",
   "execution_count": 40,
   "metadata": {},
   "outputs": [
    {
     "name": "stdout",
     "output_type": "stream",
     "text": [
      "Decision tree 1 took 60.28916788101196 seconds to train and got a score of 0.9810369348889711\n",
      "\n",
      "And here are the top features: \n",
      "('age', 0.010933063595482944)\n",
      "('vdex', 0.6327395338674218)\n",
      "('vmethod', 0.04078966731696678)\n",
      "('11022004', 0.04039019945902769)\n",
      "('11072006', 0.046857232560558945)\n",
      "('11042008', 0.04891760992761386)\n",
      "('11022010', 0.04817655097945816)\n",
      "('11062012', 0.03835128758806989)\n",
      "('11042014', 0.049710330516679946)\n",
      "('11082016', 0.037825070383354156)\n",
      "('gender_ ', 0.0)\n",
      "('gender_F', 0.0005129792313878076)\n",
      "('gender_M', 0.0005666684065145231)\n",
      "('gender_U', 0.00040794620151619133)\n",
      "('race_ ', 0.0)\n",
      "('race_A', 0.00014469355421221217)\n",
      "('race_B', 0.0003705052243181847)\n",
      "('race_I', 0.0001354480883228832)\n",
      "('race_M', 0.00012013967861317353)\n",
      "('race_O', 0.00019142447482247007)\n",
      "('race_U', 0.0003654768549107347)\n",
      "('race_W', 0.0005955387019930962)\n",
      "('party_CST', 1.1856627254444762e-05)\n",
      "('party_DEM', 0.0005770546622934727)\n",
      "('party_GRE', 1.091919043968804e-05)\n",
      "('party_LIB', 0.0001405666812942766)\n",
      "('party_REP', 0.0005750130441134291)\n",
      "('party_UNA', 0.0005832231833593986)\n",
      "\n",
      "Decision tree 2 took 60.913222312927246 seconds to train and got a score of 0.9810254575046116\n",
      "\n",
      "And here are the top features: \n",
      "('age', 0.010958799824150293)\n",
      "('vdex', 0.6326894501458713)\n",
      "('vmethod', 0.04069250471298712)\n",
      "('11022004', 0.04014654036052878)\n",
      "('11072006', 0.04737854905215722)\n",
      "('11042008', 0.04888442806664355)\n",
      "('11022010', 0.04801879449120842)\n",
      "('11062012', 0.03840287428416525)\n",
      "('11042014', 0.04971047319801323)\n",
      "('11082016', 0.03782539702069498)\n",
      "('gender_ ', 0.0)\n",
      "('gender_F', 0.0005194063887880798)\n",
      "('gender_M', 0.0005547388242439711)\n",
      "('gender_U', 0.00040683003885773106)\n",
      "('race_ ', 0.0)\n",
      "('race_A', 0.00014576315073721653)\n",
      "('race_B', 0.0003832167824261505)\n",
      "('race_I', 0.00013199568385502172)\n",
      "('race_M', 0.00011670625871683172)\n",
      "('race_O', 0.00019323336535836665)\n",
      "('race_U', 0.00036592711706196114)\n",
      "('race_W', 0.0005876531223937008)\n",
      "('party_CST', 1.1841886613477362e-05)\n",
      "('party_DEM', 0.0005846017668308176)\n",
      "('party_GRE', 1.1550015968888222e-05)\n",
      "('party_LIB', 0.00013979170663914298)\n",
      "('party_REP', 0.0005621926736601266)\n",
      "('party_UNA', 0.0005767400614283583)\n",
      "\n",
      "Decision tree 3 took 60.06040000915527 seconds to train and got a score of 0.9810444202787915\n",
      "\n",
      "And here are the top features: \n",
      "('age', 0.010948177673724389)\n",
      "('vdex', 0.6326987645655188)\n",
      "('vmethod', 0.04058807006580947)\n",
      "('11022004', 0.040542400307033495)\n",
      "('11072006', 0.04697483391386711)\n",
      "('11042008', 0.04902036622409775)\n",
      "('11022010', 0.04808140102806117)\n",
      "('11062012', 0.038296989825779955)\n",
      "('11042014', 0.04971042694150661)\n",
      "('11082016', 0.037835954398333885)\n",
      "('gender_ ', 0.0)\n",
      "('gender_F', 0.0005033809566817048)\n",
      "('gender_M', 0.000568341424684467)\n",
      "('gender_U', 0.00041424624669865695)\n",
      "('race_ ', 0.0)\n",
      "('race_A', 0.00014821941021006475)\n",
      "('race_B', 0.00037493872697223806)\n",
      "('race_I', 0.00013182460462100333)\n",
      "('race_M', 0.00011695487836369083)\n",
      "('race_O', 0.00019726065113265053)\n",
      "('race_U', 0.0003651060290517098)\n",
      "('race_W', 0.0005855220415979467)\n",
      "('party_CST', 1.1906235665738205e-05)\n",
      "('party_DEM', 0.0005960633874735726)\n",
      "('party_GRE', 1.1449456358234656e-05)\n",
      "('party_LIB', 0.0001385747984022214)\n",
      "('party_REP', 0.0005709745647323352)\n",
      "('party_UNA', 0.0005678516436212434)\n",
      "\n",
      "Decision tree 4 took 59.71728754043579 seconds to train and got a score of 0.981026342233461\n",
      "\n",
      "And here are the top features: \n",
      "('age', 0.010959357894661537)\n",
      "('vdex', 0.6326891903689429)\n",
      "('vmethod', 0.04090165988069111)\n",
      "('11022004', 0.04008811094184685)\n",
      "('11072006', 0.04711794253298909)\n",
      "('11042008', 0.048903907360309654)\n",
      "('11022010', 0.04814163475471891)\n",
      "('11062012', 0.038365257593005575)\n",
      "('11042014', 0.049709767500379975)\n",
      "('11082016', 0.03782147378357107)\n",
      "('gender_ ', 0.0)\n",
      "('gender_F', 0.0005276186109521364)\n",
      "('gender_M', 0.00054546480797102)\n",
      "('gender_U', 0.00041605135606705195)\n",
      "('race_ ', 0.0)\n",
      "('race_A', 0.00014652142857394395)\n",
      "('race_B', 0.0003662629303229703)\n",
      "('race_I', 0.00013529563207973825)\n",
      "('race_M', 0.00012044007811704562)\n",
      "('race_O', 0.00019239739561922902)\n",
      "('race_U', 0.0003620606074973198)\n",
      "('race_W', 0.0005911135188988781)\n",
      "('party_CST', 1.1671170771091196e-05)\n",
      "('party_DEM', 0.0005792332868408122)\n",
      "('party_GRE', 1.177792108763446e-05)\n",
      "('party_LIB', 0.0001446402434028811)\n",
      "('party_REP', 0.0005776086489924567)\n",
      "('party_UNA', 0.0005735397516890424)\n",
      "\n",
      "Decision tree 5 took 59.812092781066895 seconds to train and got a score of 0.9810308478208907\n",
      "\n",
      "And here are the top features: \n",
      "('age', 0.010944329528431171)\n",
      "('vdex', 0.6327395017829814)\n",
      "('vmethod', 0.0407689030182765)\n",
      "('11022004', 0.040051939648751596)\n",
      "('11072006', 0.047209161338284324)\n",
      "('11042008', 0.048935536243289626)\n",
      "('11022010', 0.048143166033224764)\n",
      "('11062012', 0.03834408195684766)\n",
      "('11042014', 0.0497105561721305)\n",
      "('11082016', 0.03783866218752188)\n",
      "('gender_ ', 0.0)\n",
      "('gender_F', 0.0005167692380828144)\n",
      "('gender_M', 0.0005738396078810358)\n",
      "('gender_U', 0.0004083212421086605)\n",
      "('race_ ', 0.0)\n",
      "('race_A', 0.00014946252406544306)\n",
      "('race_B', 0.0003757548623805241)\n",
      "('race_I', 0.0001313638712117518)\n",
      "('race_M', 0.00011577452792532204)\n",
      "('race_O', 0.00019135933870999679)\n",
      "('race_U', 0.00036656736086497813)\n",
      "('race_W', 0.000586198273318325)\n",
      "('party_CST', 1.2293724803313624e-05)\n",
      "('party_DEM', 0.0005869824917392845)\n",
      "('party_GRE', 1.1614871196679431e-05)\n",
      "('party_LIB', 0.00014016130566814653)\n",
      "('party_REP', 0.0005584570254686356)\n",
      "('party_UNA', 0.0005892418248356816)\n",
      "\n"
     ]
    }
   ],
   "source": [
    "for i in range(5):\n",
    "    \n",
    "    t0 = time.time()\n",
    "    clf = DecisionTreeClassifier()\n",
    "    \n",
    "    clf.fit(X_train, y_train)\n",
    "    t1 = time.time()\n",
    "    \n",
    "    ypred = clf.predict(X_test)\n",
    "    scores = roc_auc_score(y_test, ypred)\n",
    "    \n",
    "    print(f\"Decision tree {i+1} took {t1-t0} seconds to train and got a score of {scores}\")\n",
    "    print()\n",
    "    print(\"And here are the top features: \")\n",
    "    c = X_encoded.columns \n",
    "    for cfi in zip(c, clf.feature_importances_):\n",
    "        print(cfi)\n",
    "    print()\n",
    "    "
   ]
  },
  {
   "cell_type": "code",
   "execution_count": 41,
   "metadata": {},
   "outputs": [
    {
     "data": {
      "text/plain": [
       "DecisionTreeClassifier(class_weight=None, criterion='gini', max_depth=None,\n",
       "            max_features=None, max_leaf_nodes=None,\n",
       "            min_impurity_decrease=0.0, min_impurity_split=None,\n",
       "            min_samples_leaf=1, min_samples_split=2,\n",
       "            min_weight_fraction_leaf=0.0, presort=False, random_state=None,\n",
       "            splitter='best')"
      ]
     },
     "execution_count": 41,
     "metadata": {},
     "output_type": "execute_result"
    }
   ],
   "source": [
    "# save that training clf for future use\n",
    "clfDT1 = clf\n",
    "clfDT1"
   ]
  },
  {
   "cell_type": "code",
   "execution_count": 42,
   "metadata": {},
   "outputs": [],
   "source": [
    "# reestablish features_to_use (no change)\n",
    "features_to_use =features_to_use = ['age', 'vdex', 'vmethod', '11022004', '11072006', '11042008',\n",
    "       '11022010', '11062012', '11042014', '11082016', 'gender_ ', 'gender_F',\n",
    "       'gender_M', 'gender_U', 'race_ ', 'race_A', 'race_B', 'race_I',\n",
    "       'race_M', 'race_O', 'race_U', 'race_W', 'party_CST', 'party_DEM',\n",
    "       'party_GRE', 'party_LIB', 'party_REP', 'party_UNA']"
   ]
  },
  {
   "cell_type": "code",
   "execution_count": 43,
   "metadata": {},
   "outputs": [
    {
     "data": {
      "text/plain": [
       "931890"
      ]
     },
     "execution_count": 43,
     "metadata": {},
     "output_type": "execute_result"
    }
   ],
   "source": [
    "ypred.sum()"
   ]
  },
  {
   "cell_type": "markdown",
   "metadata": {},
   "source": [
    "# Model selection work"
   ]
  },
  {
   "cell_type": "code",
   "execution_count": 44,
   "metadata": {},
   "outputs": [
    {
     "data": {
      "text/plain": [
       "(7421374, 28)"
      ]
     },
     "execution_count": 44,
     "metadata": {},
     "output_type": "execute_result"
    }
   ],
   "source": [
    "X_encoded[features_to_use].shape"
   ]
  },
  {
   "cell_type": "code",
   "execution_count": 45,
   "metadata": {},
   "outputs": [],
   "source": [
    "X_train, X_test, y_train, y_test = train_test_split(X_encoded[features_to_use], y, random_state=42)"
   ]
  },
  {
   "cell_type": "code",
   "execution_count": 46,
   "metadata": {},
   "outputs": [
    {
     "data": {
      "text/html": [
       "<div>\n",
       "<style scoped>\n",
       "    .dataframe tbody tr th:only-of-type {\n",
       "        vertical-align: middle;\n",
       "    }\n",
       "\n",
       "    .dataframe tbody tr th {\n",
       "        vertical-align: top;\n",
       "    }\n",
       "\n",
       "    .dataframe thead th {\n",
       "        text-align: right;\n",
       "    }\n",
       "</style>\n",
       "<table border=\"1\" class=\"dataframe\">\n",
       "  <thead>\n",
       "    <tr style=\"text-align: right;\">\n",
       "      <th></th>\n",
       "      <th>age</th>\n",
       "      <th>vdex</th>\n",
       "      <th>vmethod</th>\n",
       "      <th>11022004</th>\n",
       "      <th>11072006</th>\n",
       "      <th>11042008</th>\n",
       "      <th>11022010</th>\n",
       "      <th>11062012</th>\n",
       "      <th>11042014</th>\n",
       "      <th>11082016</th>\n",
       "      <th>...</th>\n",
       "      <th>race_O</th>\n",
       "      <th>race_U</th>\n",
       "      <th>race_W</th>\n",
       "      <th>party_CST</th>\n",
       "      <th>party_DEM</th>\n",
       "      <th>party_GRE</th>\n",
       "      <th>party_LIB</th>\n",
       "      <th>party_REP</th>\n",
       "      <th>party_UNA</th>\n",
       "      <th>11062018</th>\n",
       "    </tr>\n",
       "  </thead>\n",
       "  <tbody>\n",
       "    <tr>\n",
       "      <th>2604972</th>\n",
       "      <td>34</td>\n",
       "      <td>0.857143</td>\n",
       "      <td>0.500000</td>\n",
       "      <td>1</td>\n",
       "      <td>0</td>\n",
       "      <td>1</td>\n",
       "      <td>0</td>\n",
       "      <td>1</td>\n",
       "      <td>1</td>\n",
       "      <td>1</td>\n",
       "      <td>...</td>\n",
       "      <td>0</td>\n",
       "      <td>0</td>\n",
       "      <td>1</td>\n",
       "      <td>0</td>\n",
       "      <td>1</td>\n",
       "      <td>0</td>\n",
       "      <td>0</td>\n",
       "      <td>0</td>\n",
       "      <td>0</td>\n",
       "      <td>1</td>\n",
       "    </tr>\n",
       "    <tr>\n",
       "      <th>5595571</th>\n",
       "      <td>24</td>\n",
       "      <td>0.250000</td>\n",
       "      <td>1.000000</td>\n",
       "      <td>0</td>\n",
       "      <td>0</td>\n",
       "      <td>0</td>\n",
       "      <td>0</td>\n",
       "      <td>0</td>\n",
       "      <td>0</td>\n",
       "      <td>1</td>\n",
       "      <td>...</td>\n",
       "      <td>0</td>\n",
       "      <td>0</td>\n",
       "      <td>0</td>\n",
       "      <td>0</td>\n",
       "      <td>1</td>\n",
       "      <td>0</td>\n",
       "      <td>0</td>\n",
       "      <td>0</td>\n",
       "      <td>0</td>\n",
       "      <td>0</td>\n",
       "    </tr>\n",
       "    <tr>\n",
       "      <th>1614815</th>\n",
       "      <td>57</td>\n",
       "      <td>0.750000</td>\n",
       "      <td>0.666667</td>\n",
       "      <td>1</td>\n",
       "      <td>1</td>\n",
       "      <td>1</td>\n",
       "      <td>0</td>\n",
       "      <td>1</td>\n",
       "      <td>0</td>\n",
       "      <td>1</td>\n",
       "      <td>...</td>\n",
       "      <td>0</td>\n",
       "      <td>0</td>\n",
       "      <td>1</td>\n",
       "      <td>0</td>\n",
       "      <td>1</td>\n",
       "      <td>0</td>\n",
       "      <td>0</td>\n",
       "      <td>0</td>\n",
       "      <td>0</td>\n",
       "      <td>1</td>\n",
       "    </tr>\n",
       "    <tr>\n",
       "      <th>5454977</th>\n",
       "      <td>47</td>\n",
       "      <td>0.750000</td>\n",
       "      <td>0.666667</td>\n",
       "      <td>0</td>\n",
       "      <td>0</td>\n",
       "      <td>0</td>\n",
       "      <td>0</td>\n",
       "      <td>1</td>\n",
       "      <td>1</td>\n",
       "      <td>1</td>\n",
       "      <td>...</td>\n",
       "      <td>1</td>\n",
       "      <td>0</td>\n",
       "      <td>0</td>\n",
       "      <td>0</td>\n",
       "      <td>1</td>\n",
       "      <td>0</td>\n",
       "      <td>0</td>\n",
       "      <td>0</td>\n",
       "      <td>0</td>\n",
       "      <td>0</td>\n",
       "    </tr>\n",
       "    <tr>\n",
       "      <th>2089516</th>\n",
       "      <td>54</td>\n",
       "      <td>1.000000</td>\n",
       "      <td>0.500000</td>\n",
       "      <td>0</td>\n",
       "      <td>0</td>\n",
       "      <td>0</td>\n",
       "      <td>0</td>\n",
       "      <td>1</td>\n",
       "      <td>0</td>\n",
       "      <td>0</td>\n",
       "      <td>...</td>\n",
       "      <td>0</td>\n",
       "      <td>1</td>\n",
       "      <td>0</td>\n",
       "      <td>0</td>\n",
       "      <td>0</td>\n",
       "      <td>0</td>\n",
       "      <td>0</td>\n",
       "      <td>1</td>\n",
       "      <td>0</td>\n",
       "      <td>1</td>\n",
       "    </tr>\n",
       "  </tbody>\n",
       "</table>\n",
       "<p>5 rows × 29 columns</p>\n",
       "</div>"
      ],
      "text/plain": [
       "         age      vdex   vmethod  11022004  11072006  11042008  11022010  \\\n",
       "2604972   34  0.857143  0.500000         1         0         1         0   \n",
       "5595571   24  0.250000  1.000000         0         0         0         0   \n",
       "1614815   57  0.750000  0.666667         1         1         1         0   \n",
       "5454977   47  0.750000  0.666667         0         0         0         0   \n",
       "2089516   54  1.000000  0.500000         0         0         0         0   \n",
       "\n",
       "         11062012  11042014  11082016    ...     race_O  race_U  race_W  \\\n",
       "2604972         1         1         1    ...          0       0       1   \n",
       "5595571         0         0         1    ...          0       0       0   \n",
       "1614815         1         0         1    ...          0       0       1   \n",
       "5454977         1         1         1    ...          1       0       0   \n",
       "2089516         1         0         0    ...          0       1       0   \n",
       "\n",
       "         party_CST  party_DEM  party_GRE  party_LIB  party_REP  party_UNA  \\\n",
       "2604972          0          1          0          0          0          0   \n",
       "5595571          0          1          0          0          0          0   \n",
       "1614815          0          1          0          0          0          0   \n",
       "5454977          0          1          0          0          0          0   \n",
       "2089516          0          0          0          0          1          0   \n",
       "\n",
       "         11062018  \n",
       "2604972         1  \n",
       "5595571         0  \n",
       "1614815         1  \n",
       "5454977         0  \n",
       "2089516         1  \n",
       "\n",
       "[5 rows x 29 columns]"
      ]
     },
     "execution_count": 46,
     "metadata": {},
     "output_type": "execute_result"
    }
   ],
   "source": [
    "pd.concat([X_train, y_train], axis=1).head()"
   ]
  },
  {
   "cell_type": "code",
   "execution_count": 47,
   "metadata": {},
   "outputs": [],
   "source": [
    "sds = StandardScaler()\n",
    "sds.fit(X_train)\n",
    "X_train = sds.transform(X_train)\n",
    "X_test = sds.transform(X_test)"
   ]
  },
  {
   "cell_type": "code",
   "execution_count": 48,
   "metadata": {},
   "outputs": [
    {
     "data": {
      "text/plain": [
       "StandardScaler(copy=True, with_mean=True, with_std=True)"
      ]
     },
     "execution_count": 48,
     "metadata": {},
     "output_type": "execute_result"
    }
   ],
   "source": [
    "sds"
   ]
  },
  {
   "cell_type": "markdown",
   "metadata": {},
   "source": [
    "### Define modelbench function"
   ]
  },
  {
   "cell_type": "code",
   "execution_count": 49,
   "metadata": {},
   "outputs": [],
   "source": [
    "# shuffle (3) and split (in .33)\n",
    "def modelbench(classifier, X_train, Y_train):\n",
    "    \n",
    "    rs = ShuffleSplit(n_splits=3, test_size=.33)\n",
    "    \n",
    "    rs.get_n_splits(X_train)\n",
    "    \n",
    "    Y_train = Y_train.values\n",
    "    Y_train = Y_train.ravel()\n",
    "\n",
    "    for train_idx, test_idx in rs.split(X_train):\n",
    "        ssX_train, ssX_test = X_train[train_idx], X_train[test_idx]\n",
    "        ssy_train, ssy_test = Y_train[train_idx], Y_train[test_idx]\n",
    "\n",
    "        t0 = time.time()\n",
    "        \n",
    "        clf = classifier\n",
    "        clf.fit(X=ssX_train, y=ssy_train)\n",
    "\n",
    "        ypred = clf.predict(ssX_test)\n",
    "\n",
    "        scores = roc_auc_score(ssy_test, ypred)\n",
    "    \n",
    "        t1 = time.time()\n",
    "    \n",
    "        print(f\"{classifier} \\n took {t1-t0} seconds to run and got a score of {scores}\")\n",
    "        print()"
   ]
  },
  {
   "cell_type": "markdown",
   "metadata": {},
   "source": [
    "## Deploy modelbench method to determine best clf (decisionTree and SVG (linear) optimized, other method outputs turned off)."
   ]
  },
  {
   "cell_type": "code",
   "execution_count": 50,
   "metadata": {},
   "outputs": [
    {
     "name": "stdout",
     "output_type": "stream",
     "text": [
      "DecisionTreeClassifier(class_weight=None, criterion='gini', max_depth=None,\n",
      "            max_features=None, max_leaf_nodes=None,\n",
      "            min_impurity_decrease=0.0, min_impurity_split=None,\n",
      "            min_samples_leaf=1, min_samples_split=2,\n",
      "            min_weight_fraction_leaf=0.0, presort=False, random_state=None,\n",
      "            splitter='best') \n",
      " took 45.39164996147156 seconds to run and got a score of 0.9805511884173778\n",
      "\n",
      "DecisionTreeClassifier(class_weight=None, criterion='gini', max_depth=None,\n",
      "            max_features=None, max_leaf_nodes=None,\n",
      "            min_impurity_decrease=0.0, min_impurity_split=None,\n",
      "            min_samples_leaf=1, min_samples_split=2,\n",
      "            min_weight_fraction_leaf=0.0, presort=False, random_state=None,\n",
      "            splitter='best') \n",
      " took 44.78621697425842 seconds to run and got a score of 0.9805131098816512\n",
      "\n",
      "DecisionTreeClassifier(class_weight=None, criterion='gini', max_depth=None,\n",
      "            max_features=None, max_leaf_nodes=None,\n",
      "            min_impurity_decrease=0.0, min_impurity_split=None,\n",
      "            min_samples_leaf=1, min_samples_split=2,\n",
      "            min_weight_fraction_leaf=0.0, presort=False, random_state=None,\n",
      "            splitter='best') \n",
      " took 44.323479652404785 seconds to run and got a score of 0.9805611070893031\n",
      "\n"
     ]
    }
   ],
   "source": [
    "modelbench(DecisionTreeClassifier(), X_train, y_train)"
   ]
  },
  {
   "cell_type": "code",
   "execution_count": 51,
   "metadata": {
    "collapsed": true
   },
   "outputs": [
    {
     "ename": "NameError",
     "evalue": "name 'tree' is not defined",
     "output_type": "error",
     "traceback": [
      "\u001b[1;31m---------------------------------------------------------------------------\u001b[0m",
      "\u001b[1;31mNameError\u001b[0m                                 Traceback (most recent call last)",
      "\u001b[1;32m<ipython-input-51-07926b65ed63>\u001b[0m in \u001b[0;36m<module>\u001b[1;34m()\u001b[0m\n\u001b[0;32m      1\u001b[0m \u001b[0mparameters\u001b[0m\u001b[1;33m=\u001b[0m\u001b[1;33m{\u001b[0m\u001b[1;34m'min_samples_split'\u001b[0m \u001b[1;33m:\u001b[0m \u001b[0mrange\u001b[0m\u001b[1;33m(\u001b[0m\u001b[1;36m10\u001b[0m\u001b[1;33m,\u001b[0m\u001b[1;36m500\u001b[0m\u001b[1;33m,\u001b[0m\u001b[1;36m20\u001b[0m\u001b[1;33m)\u001b[0m\u001b[1;33m,\u001b[0m\u001b[1;34m'max_depth'\u001b[0m\u001b[1;33m:\u001b[0m \u001b[0mrange\u001b[0m\u001b[1;33m(\u001b[0m\u001b[1;36m1\u001b[0m\u001b[1;33m,\u001b[0m\u001b[1;36m20\u001b[0m\u001b[1;33m,\u001b[0m\u001b[1;36m2\u001b[0m\u001b[1;33m)\u001b[0m\u001b[1;33m}\u001b[0m\u001b[1;33m\u001b[0m\u001b[0m\n\u001b[1;32m----> 2\u001b[1;33m \u001b[0mclf_tree\u001b[0m\u001b[1;33m=\u001b[0m\u001b[0mtree\u001b[0m\u001b[1;33m.\u001b[0m\u001b[0mDecisionTreeClassifier\u001b[0m\u001b[1;33m(\u001b[0m\u001b[1;33m)\u001b[0m\u001b[1;33m\u001b[0m\u001b[0m\n\u001b[0m\u001b[0;32m      3\u001b[0m \u001b[0mclf\u001b[0m\u001b[1;33m=\u001b[0m\u001b[0mgrid_search\u001b[0m\u001b[1;33m.\u001b[0m\u001b[0mGridSearchCV\u001b[0m\u001b[1;33m(\u001b[0m\u001b[0mclf_tree\u001b[0m\u001b[1;33m,\u001b[0m\u001b[0mparameters\u001b[0m\u001b[1;33m)\u001b[0m\u001b[1;33m\u001b[0m\u001b[0m\n\u001b[0;32m      4\u001b[0m \u001b[0mclf\u001b[0m\u001b[1;33m.\u001b[0m\u001b[0mfit\u001b[0m\u001b[1;33m(\u001b[0m\u001b[0mX\u001b[0m\u001b[1;33m,\u001b[0m\u001b[0mY\u001b[0m\u001b[1;33m)\u001b[0m\u001b[1;33m\u001b[0m\u001b[0m\n",
      "\u001b[1;31mNameError\u001b[0m: name 'tree' is not defined"
     ]
    }
   ],
   "source": [
    "parameters={'min_samples_split' : range(10,500,20),'max_depth': range(1,20,2)}\n",
    "clf_tree=tree.DecisionTreeClassifier()\n",
    "clf=grid_search.GridSearchCV(clf_tree,parameters)\n",
    "clf.fit(X,Y)"
   ]
  },
  {
   "cell_type": "code",
   "execution_count": 39,
   "metadata": {
    "collapsed": true
   },
   "outputs": [
    {
     "name": "stdout",
     "output_type": "stream",
     "text": [
      "LogisticRegression(C=1.0, class_weight=None, dual=False, fit_intercept=True,\n",
      "          intercept_scaling=1, max_iter=100, multi_class='ovr', n_jobs=1,\n",
      "          penalty='l2', random_state=None, solver='liblinear', tol=0.0001,\n",
      "          verbose=0, warm_start=False) \n",
      " took 16.90951156616211 seconds to run and got a score of 0.8740731756968857\n",
      "\n",
      "LogisticRegression(C=1.0, class_weight=None, dual=False, fit_intercept=True,\n",
      "          intercept_scaling=1, max_iter=100, multi_class='ovr', n_jobs=1,\n",
      "          penalty='l2', random_state=None, solver='liblinear', tol=0.0001,\n",
      "          verbose=0, warm_start=False) \n",
      " took 16.892820596694946 seconds to run and got a score of 0.8741468234878439\n",
      "\n",
      "LogisticRegression(C=1.0, class_weight=None, dual=False, fit_intercept=True,\n",
      "          intercept_scaling=1, max_iter=100, multi_class='ovr', n_jobs=1,\n",
      "          penalty='l2', random_state=None, solver='liblinear', tol=0.0001,\n",
      "          verbose=0, warm_start=False) \n",
      " took 16.947702169418335 seconds to run and got a score of 0.8736845494318334\n",
      "\n"
     ]
    }
   ],
   "source": [
    "modelbench(LogisticRegression(), X_train, y_train)"
   ]
  },
  {
   "cell_type": "code",
   "execution_count": 40,
   "metadata": {
    "collapsed": true
   },
   "outputs": [
    {
     "name": "stdout",
     "output_type": "stream",
     "text": [
      "RandomForestClassifier(bootstrap=True, class_weight=None, criterion='gini',\n",
      "            max_depth=None, max_features='auto', max_leaf_nodes=None,\n",
      "            min_impurity_decrease=0.0, min_impurity_split=None,\n",
      "            min_samples_leaf=1, min_samples_split=2,\n",
      "            min_weight_fraction_leaf=0.0, n_estimators=10, n_jobs=1,\n",
      "            oob_score=False, random_state=None, verbose=0,\n",
      "            warm_start=False) \n",
      " took 93.25159478187561 seconds to run and got a score of 0.9789721455446788\n",
      "\n",
      "RandomForestClassifier(bootstrap=True, class_weight=None, criterion='gini',\n",
      "            max_depth=None, max_features='auto', max_leaf_nodes=None,\n",
      "            min_impurity_decrease=0.0, min_impurity_split=None,\n",
      "            min_samples_leaf=1, min_samples_split=2,\n",
      "            min_weight_fraction_leaf=0.0, n_estimators=10, n_jobs=1,\n",
      "            oob_score=False, random_state=None, verbose=0,\n",
      "            warm_start=False) \n",
      " took 95.20538640022278 seconds to run and got a score of 0.978998225489451\n",
      "\n",
      "RandomForestClassifier(bootstrap=True, class_weight=None, criterion='gini',\n",
      "            max_depth=None, max_features='auto', max_leaf_nodes=None,\n",
      "            min_impurity_decrease=0.0, min_impurity_split=None,\n",
      "            min_samples_leaf=1, min_samples_split=2,\n",
      "            min_weight_fraction_leaf=0.0, n_estimators=10, n_jobs=1,\n",
      "            oob_score=False, random_state=None, verbose=0,\n",
      "            warm_start=False) \n",
      " took 90.90089964866638 seconds to run and got a score of 0.9787241349530301\n",
      "\n"
     ]
    }
   ],
   "source": [
    "modelbench(RandomForestClassifier(), X_train, y_train)"
   ]
  },
  {
   "cell_type": "code",
   "execution_count": 114,
   "metadata": {
    "collapsed": true
   },
   "outputs": [
    {
     "name": "stdout",
     "output_type": "stream",
     "text": [
      "RandomForestClassifier(bootstrap=True, class_weight=None, criterion='gini',\n",
      "            max_depth=None, max_features='auto', max_leaf_nodes=None,\n",
      "            min_impurity_decrease=0.0, min_impurity_split=None,\n",
      "            min_samples_leaf=1, min_samples_split=2,\n",
      "            min_weight_fraction_leaf=0.0, n_estimators=50, n_jobs=1,\n",
      "            oob_score=False, random_state=None, verbose=0,\n",
      "            warm_start=False) \n",
      " took 457.2282154560089 seconds to run and got a score of 0.9797229049042792\n",
      "\n",
      "RandomForestClassifier(bootstrap=True, class_weight=None, criterion='gini',\n",
      "            max_depth=None, max_features='auto', max_leaf_nodes=None,\n",
      "            min_impurity_decrease=0.0, min_impurity_split=None,\n",
      "            min_samples_leaf=1, min_samples_split=2,\n",
      "            min_weight_fraction_leaf=0.0, n_estimators=50, n_jobs=1,\n",
      "            oob_score=False, random_state=None, verbose=0,\n",
      "            warm_start=False) \n",
      " took 452.8150165081024 seconds to run and got a score of 0.9798089034040778\n",
      "\n",
      "RandomForestClassifier(bootstrap=True, class_weight=None, criterion='gini',\n",
      "            max_depth=None, max_features='auto', max_leaf_nodes=None,\n",
      "            min_impurity_decrease=0.0, min_impurity_split=None,\n",
      "            min_samples_leaf=1, min_samples_split=2,\n",
      "            min_weight_fraction_leaf=0.0, n_estimators=50, n_jobs=1,\n",
      "            oob_score=False, random_state=None, verbose=0,\n",
      "            warm_start=False) \n",
      " took 469.20717906951904 seconds to run and got a score of 0.9799724216120281\n",
      "\n"
     ]
    }
   ],
   "source": [
    "modelbench(RandomForestClassifier(n_estimators=50), X_train, y_train)"
   ]
  },
  {
   "cell_type": "code",
   "execution_count": null,
   "metadata": {},
   "outputs": [],
   "source": [
    "modelbench(RandomForestClassifier(n_estimators=100), X_train, y_train)"
   ]
  },
  {
   "cell_type": "code",
   "execution_count": null,
   "metadata": {},
   "outputs": [],
   "source": [
    "modelbench(SVC(kernel=\"linear\"), X_train, y_train)"
   ]
  },
  {
   "cell_type": "code",
   "execution_count": null,
   "metadata": {},
   "outputs": [],
   "source": [
    "modelbench(SVC(kernel=\"sigmoid\"), X_train, y_train)"
   ]
  },
  {
   "cell_type": "markdown",
   "metadata": {},
   "source": [
    "### GridSearch Section: Explore optimized parameters for possible RandomForestCLF"
   ]
  },
  {
   "cell_type": "code",
   "execution_count": 52,
   "metadata": {},
   "outputs": [],
   "source": [
    "params = {\n",
    "    \"max_depth\": [2,4,6,8,10],\n",
    "    \"min_samples_split\": [5, 9, 19],\n",
    "    \"min_samples_leaf\": [2, 5, 10],\n",
    "    \"max_leaf_nodes\": [15, 20, 50],\n",
    "}"
   ]
  },
  {
   "cell_type": "code",
   "execution_count": 116,
   "metadata": {},
   "outputs": [],
   "source": [
    "grid = GridSearchCV(RandomForestClassifier(n_estimators=10), params, cv=5)"
   ]
  },
  {
   "cell_type": "code",
   "execution_count": 117,
   "metadata": {},
   "outputs": [
    {
     "data": {
      "text/plain": [
       "GridSearchCV(cv=5, error_score='raise',\n",
       "       estimator=RandomForestClassifier(bootstrap=True, class_weight=None, criterion='gini',\n",
       "            max_depth=None, max_features='auto', max_leaf_nodes=None,\n",
       "            min_impurity_decrease=0.0, min_impurity_split=None,\n",
       "            min_samples_leaf=1, min_samples_split=2,\n",
       "            min_weight_fraction_leaf=0.0, n_estimators=10, n_jobs=1,\n",
       "            oob_score=False, random_state=None, verbose=0,\n",
       "            warm_start=False),\n",
       "       fit_params=None, iid=True, n_jobs=1,\n",
       "       param_grid={'max_depth': [2, 4, 6, 8, 10], 'min_samples_split': [5, 9, 19], 'min_samples_leaf': [2, 5, 10], 'max_leaf_nodes': [15, 20, 50]},\n",
       "       pre_dispatch='2*n_jobs', refit=True, return_train_score='warn',\n",
       "       scoring=None, verbose=0)"
      ]
     },
     "execution_count": 117,
     "metadata": {},
     "output_type": "execute_result"
    }
   ],
   "source": [
    "grid"
   ]
  },
  {
   "cell_type": "code",
   "execution_count": null,
   "metadata": {},
   "outputs": [],
   "source": [
    "grid.fit(X_train, y_train.values.ravel())"
   ]
  },
  {
   "cell_type": "code",
   "execution_count": 185,
   "metadata": {
    "collapsed": true
   },
   "outputs": [
    {
     "ename": "NameError",
     "evalue": "name 'grid' is not defined",
     "output_type": "error",
     "traceback": [
      "\u001b[1;31m---------------------------------------------------------------------------\u001b[0m",
      "\u001b[1;31mNameError\u001b[0m                                 Traceback (most recent call last)",
      "\u001b[1;32m<ipython-input-185-fb6b380b5a97>\u001b[0m in \u001b[0;36m<module>\u001b[1;34m()\u001b[0m\n\u001b[1;32m----> 1\u001b[1;33m \u001b[0mgrid\u001b[0m\u001b[1;33m.\u001b[0m\u001b[0mbest_estimator_\u001b[0m\u001b[1;33m\u001b[0m\u001b[0m\n\u001b[0m",
      "\u001b[1;31mNameError\u001b[0m: name 'grid' is not defined"
     ]
    }
   ],
   "source": [
    "grid.best_estimator_"
   ]
  },
  {
   "cell_type": "code",
   "execution_count": null,
   "metadata": {},
   "outputs": [],
   "source": [
    "grid.best_params_"
   ]
  },
  {
   "cell_type": "code",
   "execution_count": null,
   "metadata": {},
   "outputs": [],
   "source": []
  },
  {
   "cell_type": "code",
   "execution_count": 53,
   "metadata": {},
   "outputs": [
    {
     "data": {
      "text/plain": [
       "([0.9864126388517941,\n",
       "  0.9867228383631695,\n",
       "  0.9867814504070246,\n",
       "  0.9867928345680864,\n",
       "  0.9867937161090053,\n",
       "  0.986794242550033,\n",
       "  0.9867940545178184],\n",
       " [0.9783625202004248,\n",
       "  0.9790321302680715,\n",
       "  0.9792702049852727,\n",
       "  0.9792942624471522,\n",
       "  0.9793271741725506,\n",
       "  0.9793425974921104,\n",
       "  0.979384143359828])"
      ]
     },
     "execution_count": 53,
     "metadata": {},
     "output_type": "execute_result"
    }
   ],
   "source": [
    "n_trees = [10,25,50,75,100,150,200]\n",
    "\n",
    "train_auc = []\n",
    "test_auc = []\n",
    "\n",
    "for i in n_trees:\n",
    "    clf = RandomForestClassifier(n_estimators=i, random_state=1)\n",
    "    \n",
    "    clf.fit(X_train, y_train.values.ravel())\n",
    "    train_auc.append(roc_auc_score(y_train, clf.predict(X_train)))\n",
    "    test_auc.append(roc_auc_score(y_test, clf.predict(X_test)))\n",
    "    \n",
    "train_auc, test_auc"
   ]
  },
  {
   "cell_type": "code",
   "execution_count": null,
   "metadata": {},
   "outputs": [],
   "source": [
    "n_trees = [10,25,50,75,100,150,200]\n",
    "\n",
    "train_auc = []\n",
    "test_auc = []\n",
    "\n",
    "for i in n_trees:\n",
    "    clf = RandomForestClassifier(max_depth=10, n_estimators=i, random_state=1)\n",
    "    \n",
    "    clf.fit(X_train, y_train.values.ravel())\n",
    "    train_auc.append(roc_auc_score(y_train, clf.predict(X_train)))\n",
    "    test_auc.append(roc_auc_score(y_test, clf.predict(X_test)))\n",
    "    "
   ]
  },
  {
   "cell_type": "code",
   "execution_count": null,
   "metadata": {},
   "outputs": [],
   "source": [
    "train_auc, test_auc"
   ]
  },
  {
   "cell_type": "code",
   "execution_count": null,
   "metadata": {},
   "outputs": [],
   "source": [
    "n_trees = [10,25,50,75,100,150]\n",
    "\n",
    "train_auc = []\n",
    "test_auc = []\n",
    "\n",
    "for i in n_trees:\n",
    "    clf = RandomForestClassifier(max_depth=10, max_leaf_nodes=20, n_estimators=i, random_state=1)\n",
    "    \n",
    "    clf.fit(X_train, y_train.values.ravel())\n",
    "    train_auc.append(roc_auc_score(y_train, clf.predict(X_train)))\n",
    "    test_auc.append(roc_auc_score(y_test, clf.predict(X_test)))\n",
    "\n",
    "train_auc, test_auc"
   ]
  },
  {
   "cell_type": "code",
   "execution_count": null,
   "metadata": {},
   "outputs": [],
   "source": [
    "n_trees = [10,25,50,75,100,150]\n",
    "\n",
    "train_auc = []\n",
    "test_auc = []\n",
    "\n",
    "for i in n_trees:\n",
    "    clf = RandomForestClassifier(max_depth=10, max_leaf_nodes=20, min_samples_split=9,\n",
    "                                 n_estimators=i, random_state=1)\n",
    "    \n",
    "    clf.fit(X_train, y_train.values.ravel())\n",
    "    train_auc.append(roc_auc_score(y_train, clf.predict(X_train)))\n",
    "    test_auc.append(roc_auc_score(y_test, clf.predict(X_test)))\n",
    "\n",
    "train_auc, test_auc"
   ]
  },
  {
   "cell_type": "code",
   "execution_count": 186,
   "metadata": {},
   "outputs": [
    {
     "data": {
      "text/plain": [
       "([0.8724534881332533,\n",
       "  0.8787715167810763,\n",
       "  0.8769537147205775,\n",
       "  0.874857178039196,\n",
       "  0.8758854296031039,\n",
       "  0.8747593522820573],\n",
       " [0.8718725754804536,\n",
       "  0.8783656102049608,\n",
       "  0.8764400830567823,\n",
       "  0.874431549351685,\n",
       "  0.8755075373108486,\n",
       "  0.8743349526122591])"
      ]
     },
     "execution_count": 186,
     "metadata": {},
     "output_type": "execute_result"
    }
   ],
   "source": [
    "n_trees = [10,25,50,75,100,150]\n",
    "\n",
    "train_auc = []\n",
    "test_auc = []\n",
    "\n",
    "for i in n_trees:\n",
    "    clf = RandomForestClassifier(max_depth=10, max_leaf_nodes=20, min_samples_split=9,\n",
    "                                 n_estimators=i)\n",
    "    \n",
    "    clf.fit(X_train, y_train.values.ravel())\n",
    "    train_auc.append(roc_auc_score(y_train, clf.predict(X_train)))\n",
    "    test_auc.append(roc_auc_score(y_test, clf.predict(X_test)))\n",
    "\n",
    "train_auc, test_auc"
   ]
  },
  {
   "cell_type": "markdown",
   "metadata": {},
   "source": [
    "## Prepare visualization of clf results (DecisionTree)"
   ]
  },
  {
   "cell_type": "code",
   "execution_count": 45,
   "metadata": {},
   "outputs": [
    {
     "data": {
      "text/plain": [
       "[<matplotlib.lines.Line2D at 0x191d79117b8>]"
      ]
     },
     "execution_count": 45,
     "metadata": {},
     "output_type": "execute_result"
    },
    {
     "data": {
      "image/png": "[encoded data removed]",
      "text/plain": [
       "<Figure size 576x396 with 1 Axes>"
      ]
     },
     "metadata": {},
     "output_type": "display_data"
    }
   ],
   "source": [
    "train_auc = []\n",
    "test_auc = []\n",
    "\n",
    "for i in range(1,30):\n",
    "#    clf = RandomForestClassifier(max_depth=i, max_leaf_nodes=20, min_samples_split=9,\n",
    "#                                 n_estimators=25)\n",
    "    clf=clfDT1\n",
    "    clf.fit(X_train, y_train.values.ravel())\n",
    "    train_auc.append(roc_auc_score(y_train, clf.predict(X_train)))\n",
    "    test_auc.append(roc_auc_score(y_test, clf.predict(X_test)))\n",
    "\n",
    "train_auc, test_auc\n",
    "\n",
    "plt.plot(range(29), train_auc)\n",
    "plt.plot(range(29), test_auc)"
   ]
  },
  {
   "cell_type": "code",
   "execution_count": 47,
   "metadata": {},
   "outputs": [
    {
     "data": {
      "text/plain": [
       "[<matplotlib.lines.Line2D at 0x191d79592b0>]"
      ]
     },
     "execution_count": 47,
     "metadata": {},
     "output_type": "execute_result"
    },
    {
     "data": {
      "image/png": "[encoded data removed]",
      "text/plain": [
       "<Figure size 576x396 with 1 Axes>"
      ]
     },
     "metadata": {},
     "output_type": "display_data"
    }
   ],
   "source": [
    "train_auc = []\n",
    "test_auc = []\n",
    "\n",
    "for i in range(2,100):\n",
    "#    clf = RandomForestClassifier(max_depth=15, max_leaf_nodes=i, min_samples_split=9,\n",
    "#                                 n_estimators=25)\n",
    "    clf=clfDT1\n",
    "    clf.fit(X_train, y_train.values.ravel())\n",
    "    train_auc.append(roc_auc_score(y_train, clf.predict(X_train)))\n",
    "    test_auc.append(roc_auc_score(y_test, clf.predict(X_test)))\n",
    "\n",
    "train_auc, test_auc\n",
    "\n",
    "plt.plot(range(98), train_auc)\n",
    "plt.plot(range(98), test_auc)"
   ]
  },
  {
   "cell_type": "code",
   "execution_count": 48,
   "metadata": {},
   "outputs": [
    {
     "data": {
      "text/plain": [
       "[<matplotlib.lines.Line2D at 0x191d883cb70>]"
      ]
     },
     "execution_count": 48,
     "metadata": {},
     "output_type": "execute_result"
    },
    {
     "data": {
      "image/png": "[encoded data removed]",
      "text/plain": [
       "<Figure size 576x396 with 1 Axes>"
      ]
     },
     "metadata": {},
     "output_type": "display_data"
    }
   ],
   "source": [
    "train_auc = []\n",
    "test_auc = []\n",
    "\n",
    "for i in range(30):\n",
    "#    clf = RandomForestClassifier(max_depth=15, max_leaf_nodes=80, min_samples_split=9,\n",
    "#                                 n_estimators=25)\n",
    "    clf=clfDT1    \n",
    "    clf.fit(X_train, y_train.values.ravel())\n",
    "    train_auc.append(roc_auc_score(y_train, clf.predict(X_train)))\n",
    "    test_auc.append(roc_auc_score(y_test, clf.predict(X_test)))\n",
    "\n",
    "train_auc, test_auc\n",
    "\n",
    "plt.plot(range(30), train_auc)\n",
    "plt.plot(range(30), test_auc)"
   ]
  },
  {
   "cell_type": "markdown",
   "metadata": {},
   "source": [
    "## DecisionTreeClassifier provides best results and will be moved to production."
   ]
  },
  {
   "cell_type": "markdown",
   "metadata": {},
   "source": [
    "### Model Save and Load###"
   ]
  },
  {
   "cell_type": "code",
   "execution_count": 53,
   "metadata": {},
   "outputs": [
    {
     "data": {
      "text/plain": [
       "DecisionTreeClassifier(class_weight=None, criterion='gini', max_depth=None,\n",
       "            max_features=None, max_leaf_nodes=None,\n",
       "            min_impurity_decrease=0.0, min_impurity_split=None,\n",
       "            min_samples_leaf=1, min_samples_split=2,\n",
       "            min_weight_fraction_leaf=0.0, presort=False, random_state=None,\n",
       "            splitter='best')"
      ]
     },
     "execution_count": 53,
     "metadata": {},
     "output_type": "execute_result"
    }
   ],
   "source": [
    "# access decision tree clf for save\n",
    "clf = clfDT1\n",
    "clf"
   ]
  },
  {
   "cell_type": "code",
   "execution_count": null,
   "metadata": {},
   "outputs": [],
   "source": [
    "from sklearn.externals import joblib"
   ]
  },
  {
   "cell_type": "code",
   "execution_count": null,
   "metadata": {},
   "outputs": [],
   "source": [
    "joblib.dump(clf, \"NC_Predict_TO18.model\")"
   ]
  },
  {
   "cell_type": "code",
   "execution_count": null,
   "metadata": {},
   "outputs": [],
   "source": [
    "# save scaler (scaling)\n",
    "joblib.dump(sds, \"NC_Predict_TO18_scaler.model\")"
   ]
  },
  {
   "cell_type": "code",
   "execution_count": null,
   "metadata": {},
   "outputs": [],
   "source": [
    "# del clf (e.g.) unreversable"
   ]
  },
  {
   "cell_type": "code",
   "execution_count": 54,
   "metadata": {},
   "outputs": [
    {
     "data": {
      "text/plain": [
       "DecisionTreeClassifier(class_weight=None, criterion='gini', max_depth=None,\n",
       "            max_features=None, max_leaf_nodes=None,\n",
       "            min_impurity_decrease=0.0, min_impurity_split=None,\n",
       "            min_samples_leaf=1, min_samples_split=2,\n",
       "            min_weight_fraction_leaf=0.0, presort=False, random_state=None,\n",
       "            splitter='best')"
      ]
     },
     "execution_count": 54,
     "metadata": {},
     "output_type": "execute_result"
    }
   ],
   "source": [
    "clf"
   ]
  },
  {
   "cell_type": "code",
   "execution_count": null,
   "metadata": {},
   "outputs": [],
   "source": []
  }
 ],
 "metadata": {
  "kernelspec": {
   "display_name": "Python 3",
   "language": "python",
   "name": "python3"
  },
  "language_info": {
   "codemirror_mode": {
    "name": "ipython",
    "version": 3
   },
   "file_extension": ".py",
   "mimetype": "text/x-python",
   "name": "python",
   "nbconvert_exporter": "python",
   "pygments_lexer": "ipython3",
   "version": "3.6.5"
  }
 },
 "nbformat": 4,
 "nbformat_minor": 2
}
