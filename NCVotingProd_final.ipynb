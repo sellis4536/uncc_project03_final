{
 "cells": [
  {
   "cell_type": "markdown",
   "metadata": {},
   "source": [
    "# NCVotingProd: NCVotingLearn model production notebook\n",
    "### Notebook explores production possibilities for the NC Voting Prediction Model and isolates false negative and positive cases for additional exploration"
   ]
  },
  {
   "cell_type": "code",
   "execution_count": 1,
   "metadata": {},
   "outputs": [],
   "source": [
    "import pandas as pd\n",
    "import seaborn as sns\n",
    "import matplotlib.pyplot as plt\n",
    "import numpy as np\n",
    "\n",
    "from sklearn.linear_model import LogisticRegression\n",
    "from sklearn.tree import DecisionTreeClassifier\n",
    "from sklearn.ensemble import RandomForestClassifier\n",
    "from sklearn.svm import SVC\n",
    "from sklearn.preprocessing import StandardScaler\n",
    "from sklearn.model_selection import train_test_split, ShuffleSplit, GridSearchCV\n",
    "from sklearn.metrics import roc_auc_score, roc_curve, auc, confusion_matrix\n",
    "import pickle\n",
    "from sklearn.externals import joblib\n",
    "\n",
    "import os\n",
    "import time\n",
    "import sys"
   ]
  },
  {
   "cell_type": "code",
   "execution_count": 2,
   "metadata": {},
   "outputs": [
    {
     "data": {
      "text/html": [
       "<div>\n",
       "<style scoped>\n",
       "    .dataframe tbody tr th:only-of-type {\n",
       "        vertical-align: middle;\n",
       "    }\n",
       "\n",
       "    .dataframe tbody tr th {\n",
       "        vertical-align: top;\n",
       "    }\n",
       "\n",
       "    .dataframe thead th {\n",
       "        text-align: right;\n",
       "    }\n",
       "</style>\n",
       "<table border=\"1\" class=\"dataframe\">\n",
       "  <thead>\n",
       "    <tr style=\"text-align: right;\">\n",
       "      <th></th>\n",
       "      <th>Unnamed: 0</th>\n",
       "      <th>ncid</th>\n",
       "      <th>county</th>\n",
       "      <th>gender</th>\n",
       "      <th>age</th>\n",
       "      <th>race</th>\n",
       "      <th>party</th>\n",
       "      <th>rYear</th>\n",
       "      <th>vdex</th>\n",
       "      <th>vmethod</th>\n",
       "      <th>11022004</th>\n",
       "      <th>11072006</th>\n",
       "      <th>11042008</th>\n",
       "      <th>11022010</th>\n",
       "      <th>11062012</th>\n",
       "      <th>11042014</th>\n",
       "      <th>11082016</th>\n",
       "      <th>11062018</th>\n",
       "    </tr>\n",
       "  </thead>\n",
       "  <tbody>\n",
       "    <tr>\n",
       "      <th>0</th>\n",
       "      <td>0</td>\n",
       "      <td>AA56273</td>\n",
       "      <td>1</td>\n",
       "      <td>F</td>\n",
       "      <td>83</td>\n",
       "      <td>W</td>\n",
       "      <td>UNA</td>\n",
       "      <td>1984</td>\n",
       "      <td>1.0</td>\n",
       "      <td>0.875</td>\n",
       "      <td>1</td>\n",
       "      <td>1</td>\n",
       "      <td>1</td>\n",
       "      <td>1</td>\n",
       "      <td>1</td>\n",
       "      <td>1</td>\n",
       "      <td>1</td>\n",
       "      <td>1</td>\n",
       "    </tr>\n",
       "    <tr>\n",
       "      <th>1</th>\n",
       "      <td>1</td>\n",
       "      <td>AA201627</td>\n",
       "      <td>1</td>\n",
       "      <td>F</td>\n",
       "      <td>40</td>\n",
       "      <td>W</td>\n",
       "      <td>UNA</td>\n",
       "      <td>2018</td>\n",
       "      <td>0.0</td>\n",
       "      <td>0.000</td>\n",
       "      <td>0</td>\n",
       "      <td>0</td>\n",
       "      <td>0</td>\n",
       "      <td>0</td>\n",
       "      <td>0</td>\n",
       "      <td>0</td>\n",
       "      <td>0</td>\n",
       "      <td>0</td>\n",
       "    </tr>\n",
       "    <tr>\n",
       "      <th>2</th>\n",
       "      <td>2</td>\n",
       "      <td>AA98377</td>\n",
       "      <td>1</td>\n",
       "      <td>F</td>\n",
       "      <td>42</td>\n",
       "      <td>W</td>\n",
       "      <td>UNA</td>\n",
       "      <td>1996</td>\n",
       "      <td>1.0</td>\n",
       "      <td>0.500</td>\n",
       "      <td>1</td>\n",
       "      <td>1</td>\n",
       "      <td>1</td>\n",
       "      <td>1</td>\n",
       "      <td>1</td>\n",
       "      <td>1</td>\n",
       "      <td>1</td>\n",
       "      <td>1</td>\n",
       "    </tr>\n",
       "    <tr>\n",
       "      <th>3</th>\n",
       "      <td>3</td>\n",
       "      <td>AA69747</td>\n",
       "      <td>1</td>\n",
       "      <td>F</td>\n",
       "      <td>73</td>\n",
       "      <td>W</td>\n",
       "      <td>UNA</td>\n",
       "      <td>1989</td>\n",
       "      <td>1.0</td>\n",
       "      <td>0.250</td>\n",
       "      <td>1</td>\n",
       "      <td>1</td>\n",
       "      <td>1</td>\n",
       "      <td>1</td>\n",
       "      <td>1</td>\n",
       "      <td>1</td>\n",
       "      <td>1</td>\n",
       "      <td>1</td>\n",
       "    </tr>\n",
       "    <tr>\n",
       "      <th>4</th>\n",
       "      <td>4</td>\n",
       "      <td>AA170513</td>\n",
       "      <td>1</td>\n",
       "      <td>M</td>\n",
       "      <td>70</td>\n",
       "      <td>W</td>\n",
       "      <td>DEM</td>\n",
       "      <td>2012</td>\n",
       "      <td>1.0</td>\n",
       "      <td>0.000</td>\n",
       "      <td>0</td>\n",
       "      <td>0</td>\n",
       "      <td>0</td>\n",
       "      <td>0</td>\n",
       "      <td>1</td>\n",
       "      <td>1</td>\n",
       "      <td>1</td>\n",
       "      <td>1</td>\n",
       "    </tr>\n",
       "  </tbody>\n",
       "</table>\n",
       "</div>"
      ],
      "text/plain": [
       "   Unnamed: 0      ncid  county gender  age race party  rYear  vdex  vmethod  \\\n",
       "0           0   AA56273       1      F   83    W   UNA   1984   1.0    0.875   \n",
       "1           1  AA201627       1      F   40    W   UNA   2018   0.0    0.000   \n",
       "2           2   AA98377       1      F   42    W   UNA   1996   1.0    0.500   \n",
       "3           3   AA69747       1      F   73    W   UNA   1989   1.0    0.250   \n",
       "4           4  AA170513       1      M   70    W   DEM   2012   1.0    0.000   \n",
       "\n",
       "   11022004  11072006  11042008  11022010  11062012  11042014  11082016  \\\n",
       "0         1         1         1         1         1         1         1   \n",
       "1         0         0         0         0         0         0         0   \n",
       "2         1         1         1         1         1         1         1   \n",
       "3         1         1         1         1         1         1         1   \n",
       "4         0         0         0         0         1         1         1   \n",
       "\n",
       "   11062018  \n",
       "0         1  \n",
       "1         0  \n",
       "2         1  \n",
       "3         1  \n",
       "4         1  "
      ]
     },
     "execution_count": 2,
     "metadata": {},
     "output_type": "execute_result"
    }
   ],
   "source": [
    "# data load -- preprocessing ref. is NCVotingLearn_Final\n",
    "df0301 = pd.read_csv(\"dfIIA.dat\", sep = '|')\n",
    "df0301.head()"
   ]
  },
  {
   "cell_type": "code",
   "execution_count": null,
   "metadata": {},
   "outputs": [],
   "source": [
    "cat_cols = [\n",
    "    \"gender\",\n",
    "    \"race\",\n",
    "    \"party\",\n",
    "    \"11022004\",\n",
    "    \"11072006\",\n",
    "    \"11042008\",\n",
    "    \"11022010\",\n",
    "    \"11062012\",\n",
    "    \"11042014\",\n",
    "    \"11082016\",\n",
    "    \"11062018\"\n",
    "]"
   ]
  },
  {
   "cell_type": "code",
   "execution_count": null,
   "metadata": {},
   "outputs": [],
   "source": [
    "num_cols = [\n",
    "    \"vdex\",\n",
    "    \"vmethod\",\n",
    "    \"age\"\n",
    "   # \"ballots\"\n",
    "]"
   ]
  },
  {
   "cell_type": "code",
   "execution_count": null,
   "metadata": {},
   "outputs": [],
   "source": [
    "df0301.vdex.value_counts()"
   ]
  },
  {
   "cell_type": "code",
   "execution_count": null,
   "metadata": {},
   "outputs": [],
   "source": [
    "df0301.columns"
   ]
  },
  {
   "cell_type": "code",
   "execution_count": 5,
   "metadata": {},
   "outputs": [],
   "source": [
    "features_to_use = [\n",
    "    \"age\",\n",
    "    #\"birth_state\",\n",
    "    \"gender\",\n",
    "    \"race\",\n",
    "    \"party\",\n",
    "    \"vdex\",\n",
    "    \"vmethod\",\n",
    "    \"11022004\",\n",
    "    \"11072006\",\n",
    "    \"11042008\",\n",
    "    \"11022010\",\n",
    "    \"11062012\",\n",
    "    \"11042014\",\n",
    "    \"11082016\"\n",
    "]"
   ]
  },
  {
   "cell_type": "code",
   "execution_count": 6,
   "metadata": {},
   "outputs": [],
   "source": [
    "X = df0301[features_to_use]"
   ]
  },
  {
   "cell_type": "code",
   "execution_count": 7,
   "metadata": {},
   "outputs": [
    {
     "data": {
      "text/plain": [
       "(7421374, 13)"
      ]
     },
     "execution_count": 7,
     "metadata": {},
     "output_type": "execute_result"
    }
   ],
   "source": [
    "X.shape"
   ]
  },
  {
   "cell_type": "code",
   "execution_count": 9,
   "metadata": {},
   "outputs": [],
   "source": [
    "X_encoded = pd.get_dummies(X)"
   ]
  },
  {
   "cell_type": "code",
   "execution_count": 10,
   "metadata": {},
   "outputs": [
    {
     "data": {
      "text/plain": [
       "(7421374, 28)"
      ]
     },
     "execution_count": 10,
     "metadata": {},
     "output_type": "execute_result"
    }
   ],
   "source": [
    "X_encoded.shape"
   ]
  },
  {
   "cell_type": "code",
   "execution_count": 11,
   "metadata": {},
   "outputs": [
    {
     "data": {
      "text/html": [
       "<div>\n",
       "<style scoped>\n",
       "    .dataframe tbody tr th:only-of-type {\n",
       "        vertical-align: middle;\n",
       "    }\n",
       "\n",
       "    .dataframe tbody tr th {\n",
       "        vertical-align: top;\n",
       "    }\n",
       "\n",
       "    .dataframe thead th {\n",
       "        text-align: right;\n",
       "    }\n",
       "</style>\n",
       "<table border=\"1\" class=\"dataframe\">\n",
       "  <thead>\n",
       "    <tr style=\"text-align: right;\">\n",
       "      <th></th>\n",
       "      <th>age</th>\n",
       "      <th>vdex</th>\n",
       "      <th>vmethod</th>\n",
       "      <th>11022004</th>\n",
       "      <th>11072006</th>\n",
       "      <th>11042008</th>\n",
       "      <th>11022010</th>\n",
       "      <th>11062012</th>\n",
       "      <th>11042014</th>\n",
       "      <th>11082016</th>\n",
       "      <th>...</th>\n",
       "      <th>race_M</th>\n",
       "      <th>race_O</th>\n",
       "      <th>race_U</th>\n",
       "      <th>race_W</th>\n",
       "      <th>party_CST</th>\n",
       "      <th>party_DEM</th>\n",
       "      <th>party_GRE</th>\n",
       "      <th>party_LIB</th>\n",
       "      <th>party_REP</th>\n",
       "      <th>party_UNA</th>\n",
       "    </tr>\n",
       "  </thead>\n",
       "  <tbody>\n",
       "    <tr>\n",
       "      <th>0</th>\n",
       "      <td>83</td>\n",
       "      <td>1.0</td>\n",
       "      <td>0.875</td>\n",
       "      <td>1</td>\n",
       "      <td>1</td>\n",
       "      <td>1</td>\n",
       "      <td>1</td>\n",
       "      <td>1</td>\n",
       "      <td>1</td>\n",
       "      <td>1</td>\n",
       "      <td>...</td>\n",
       "      <td>0</td>\n",
       "      <td>0</td>\n",
       "      <td>0</td>\n",
       "      <td>1</td>\n",
       "      <td>0</td>\n",
       "      <td>0</td>\n",
       "      <td>0</td>\n",
       "      <td>0</td>\n",
       "      <td>0</td>\n",
       "      <td>1</td>\n",
       "    </tr>\n",
       "    <tr>\n",
       "      <th>1</th>\n",
       "      <td>40</td>\n",
       "      <td>0.0</td>\n",
       "      <td>0.000</td>\n",
       "      <td>0</td>\n",
       "      <td>0</td>\n",
       "      <td>0</td>\n",
       "      <td>0</td>\n",
       "      <td>0</td>\n",
       "      <td>0</td>\n",
       "      <td>0</td>\n",
       "      <td>...</td>\n",
       "      <td>0</td>\n",
       "      <td>0</td>\n",
       "      <td>0</td>\n",
       "      <td>1</td>\n",
       "      <td>0</td>\n",
       "      <td>0</td>\n",
       "      <td>0</td>\n",
       "      <td>0</td>\n",
       "      <td>0</td>\n",
       "      <td>1</td>\n",
       "    </tr>\n",
       "    <tr>\n",
       "      <th>2</th>\n",
       "      <td>42</td>\n",
       "      <td>1.0</td>\n",
       "      <td>0.500</td>\n",
       "      <td>1</td>\n",
       "      <td>1</td>\n",
       "      <td>1</td>\n",
       "      <td>1</td>\n",
       "      <td>1</td>\n",
       "      <td>1</td>\n",
       "      <td>1</td>\n",
       "      <td>...</td>\n",
       "      <td>0</td>\n",
       "      <td>0</td>\n",
       "      <td>0</td>\n",
       "      <td>1</td>\n",
       "      <td>0</td>\n",
       "      <td>0</td>\n",
       "      <td>0</td>\n",
       "      <td>0</td>\n",
       "      <td>0</td>\n",
       "      <td>1</td>\n",
       "    </tr>\n",
       "    <tr>\n",
       "      <th>3</th>\n",
       "      <td>73</td>\n",
       "      <td>1.0</td>\n",
       "      <td>0.250</td>\n",
       "      <td>1</td>\n",
       "      <td>1</td>\n",
       "      <td>1</td>\n",
       "      <td>1</td>\n",
       "      <td>1</td>\n",
       "      <td>1</td>\n",
       "      <td>1</td>\n",
       "      <td>...</td>\n",
       "      <td>0</td>\n",
       "      <td>0</td>\n",
       "      <td>0</td>\n",
       "      <td>1</td>\n",
       "      <td>0</td>\n",
       "      <td>0</td>\n",
       "      <td>0</td>\n",
       "      <td>0</td>\n",
       "      <td>0</td>\n",
       "      <td>1</td>\n",
       "    </tr>\n",
       "    <tr>\n",
       "      <th>4</th>\n",
       "      <td>70</td>\n",
       "      <td>1.0</td>\n",
       "      <td>0.000</td>\n",
       "      <td>0</td>\n",
       "      <td>0</td>\n",
       "      <td>0</td>\n",
       "      <td>0</td>\n",
       "      <td>1</td>\n",
       "      <td>1</td>\n",
       "      <td>1</td>\n",
       "      <td>...</td>\n",
       "      <td>0</td>\n",
       "      <td>0</td>\n",
       "      <td>0</td>\n",
       "      <td>1</td>\n",
       "      <td>0</td>\n",
       "      <td>1</td>\n",
       "      <td>0</td>\n",
       "      <td>0</td>\n",
       "      <td>0</td>\n",
       "      <td>0</td>\n",
       "    </tr>\n",
       "  </tbody>\n",
       "</table>\n",
       "<p>5 rows × 28 columns</p>\n",
       "</div>"
      ],
      "text/plain": [
       "   age  vdex  vmethod  11022004  11072006  11042008  11022010  11062012  \\\n",
       "0   83   1.0    0.875         1         1         1         1         1   \n",
       "1   40   0.0    0.000         0         0         0         0         0   \n",
       "2   42   1.0    0.500         1         1         1         1         1   \n",
       "3   73   1.0    0.250         1         1         1         1         1   \n",
       "4   70   1.0    0.000         0         0         0         0         1   \n",
       "\n",
       "   11042014  11082016    ...      race_M  race_O  race_U  race_W  party_CST  \\\n",
       "0         1         1    ...           0       0       0       1          0   \n",
       "1         0         0    ...           0       0       0       1          0   \n",
       "2         1         1    ...           0       0       0       1          0   \n",
       "3         1         1    ...           0       0       0       1          0   \n",
       "4         1         1    ...           0       0       0       1          0   \n",
       "\n",
       "   party_DEM  party_GRE  party_LIB  party_REP  party_UNA  \n",
       "0          0          0          0          0          1  \n",
       "1          0          0          0          0          1  \n",
       "2          0          0          0          0          1  \n",
       "3          0          0          0          0          1  \n",
       "4          1          0          0          0          0  \n",
       "\n",
       "[5 rows x 28 columns]"
      ]
     },
     "execution_count": 11,
     "metadata": {},
     "output_type": "execute_result"
    }
   ],
   "source": [
    "X_encoded.head()"
   ]
  },
  {
   "cell_type": "code",
   "execution_count": 12,
   "metadata": {},
   "outputs": [],
   "source": [
    "del X_encoded['race_ '] #this was necessary due to a drop made in 2nd train test split -- unknown origin"
   ]
  },
  {
   "cell_type": "markdown",
   "metadata": {},
   "source": [
    "## df0301 is prepped for model introduction.\n",
    "\n",
    "- X_encoded can skip TTS processing\n",
    "- load clf from NC_Predicted_TO18.model\n",
    "- load sds from NC_Predict_TO18_scalar.model\n",
    "- Proceeds to standardScaler\n",
    "- makes predictions"
   ]
  },
  {
   "cell_type": "code",
   "execution_count": 13,
   "metadata": {
    "scrolled": true
   },
   "outputs": [],
   "source": [
    "# load stored model classification (clf)\n",
    "clf = joblib.load(\"NC_Predict_TO18.model\")"
   ]
  },
  {
   "cell_type": "code",
   "execution_count": 14,
   "metadata": {},
   "outputs": [
    {
     "data": {
      "text/plain": [
       "DecisionTreeClassifier(class_weight=None, criterion='gini', max_depth=None,\n",
       "            max_features=None, max_leaf_nodes=None,\n",
       "            min_impurity_decrease=0.0, min_impurity_split=None,\n",
       "            min_samples_leaf=1, min_samples_split=2,\n",
       "            min_weight_fraction_leaf=0.0, presort=False, random_state=1,\n",
       "            splitter='best')"
      ]
     },
     "execution_count": 14,
     "metadata": {},
     "output_type": "execute_result"
    }
   ],
   "source": [
    "clf"
   ]
  },
  {
   "cell_type": "code",
   "execution_count": 15,
   "metadata": {},
   "outputs": [],
   "source": [
    "# load stored model scalar (sds)\n",
    "sds = joblib.load(\"NC_Predict_TO18_scaler.model\")"
   ]
  },
  {
   "cell_type": "code",
   "execution_count": 16,
   "metadata": {},
   "outputs": [
    {
     "data": {
      "text/plain": [
       "StandardScaler(copy=True, with_mean=True, with_std=True)"
      ]
     },
     "execution_count": 16,
     "metadata": {},
     "output_type": "execute_result"
    }
   ],
   "source": [
    "sds"
   ]
  },
  {
   "cell_type": "code",
   "execution_count": 30,
   "metadata": {
    "scrolled": true
   },
   "outputs": [
    {
     "name": "stdout",
     "output_type": "stream",
     "text": [
      "[[ 1.6935506   1.02871672  1.18813915 ... -0.07323142 -0.65414538\n",
      "   1.49055437]\n",
      " [-0.51923837 -1.74551342 -1.08526206 ... -0.07323142 -0.65414538\n",
      "   1.49055437]\n",
      " [-0.41631796  1.02871672  0.21382435 ... -0.07323142 -0.65414538\n",
      "   1.49055437]\n",
      " ...\n",
      " [ 0.66434642 -1.74551342 -1.08526206 ... -0.07323142 -0.65414538\n",
      "   1.49055437]\n",
      " [ 2.05377206 -0.70517711 -1.08526206 ... -0.07323142 -0.65414538\n",
      "  -0.67089133]\n",
      " [ 0.20120455 -1.74551342 -1.08526206 ... -0.07323142  1.52871217\n",
      "  -0.67089133]]\n"
     ]
    }
   ],
   "source": [
    "scaled_features = sds.transform(X_encoded)\n",
    "print(scaled_features)"
   ]
  },
  {
   "cell_type": "code",
   "execution_count": 18,
   "metadata": {},
   "outputs": [
    {
     "data": {
      "text/plain": [
       "array([[0., 1.],\n",
       "       [1., 0.],\n",
       "       [0., 1.],\n",
       "       ...,\n",
       "       [1., 0.],\n",
       "       [1., 0.],\n",
       "       [1., 0.]])"
      ]
     },
     "execution_count": 18,
     "metadata": {},
     "output_type": "execute_result"
    }
   ],
   "source": [
    "vpred = clf.predict(scaled_features)\n",
    "vpred_prob = clf.predict_proba(scaled_features)\n",
    "vpred_prob"
   ]
  },
  {
   "cell_type": "code",
   "execution_count": 19,
   "metadata": {},
   "outputs": [
    {
     "data": {
      "text/plain": [
       "array([1, 0, 1, ..., 0, 0, 0], dtype=int64)"
      ]
     },
     "execution_count": 19,
     "metadata": {},
     "output_type": "execute_result"
    }
   ],
   "source": [
    "vpred"
   ]
  },
  {
   "cell_type": "code",
   "execution_count": 20,
   "metadata": {},
   "outputs": [
    {
     "data": {
      "text/plain": [
       "3738303"
      ]
     },
     "execution_count": 20,
     "metadata": {},
     "output_type": "execute_result"
    }
   ],
   "source": [
    "vpred.sum()"
   ]
  },
  {
   "cell_type": "markdown",
   "metadata": {},
   "source": [
    "### Predicted voting of 3,738,303 vs. 3,755,778 actual shows whole error of -17,475 (-0.47%)"
   ]
  },
  {
   "cell_type": "code",
   "execution_count": 77,
   "metadata": {
    "scrolled": true
   },
   "outputs": [],
   "source": [
    "probVotes = pd.DataFrame(vpred_prob)\n",
    "predVotes = pd.DataFrame(vpred, columns={'pvote'})"
   ]
  },
  {
   "cell_type": "code",
   "execution_count": 78,
   "metadata": {},
   "outputs": [
    {
     "data": {
      "text/html": [
       "<div>\n",
       "<style scoped>\n",
       "    .dataframe tbody tr th:only-of-type {\n",
       "        vertical-align: middle;\n",
       "    }\n",
       "\n",
       "    .dataframe tbody tr th {\n",
       "        vertical-align: top;\n",
       "    }\n",
       "\n",
       "    .dataframe thead th {\n",
       "        text-align: right;\n",
       "    }\n",
       "</style>\n",
       "<table border=\"1\" class=\"dataframe\">\n",
       "  <thead>\n",
       "    <tr style=\"text-align: right;\">\n",
       "      <th></th>\n",
       "      <th>Unnamed: 0</th>\n",
       "      <th>ncid</th>\n",
       "      <th>county</th>\n",
       "      <th>gender</th>\n",
       "      <th>age</th>\n",
       "      <th>race</th>\n",
       "      <th>party</th>\n",
       "      <th>rYear</th>\n",
       "      <th>vdex</th>\n",
       "      <th>vmethod</th>\n",
       "      <th>11022004</th>\n",
       "      <th>11072006</th>\n",
       "      <th>11042008</th>\n",
       "      <th>11022010</th>\n",
       "      <th>11062012</th>\n",
       "      <th>11042014</th>\n",
       "      <th>11082016</th>\n",
       "      <th>11062018</th>\n",
       "      <th>pvote</th>\n",
       "    </tr>\n",
       "  </thead>\n",
       "  <tbody>\n",
       "    <tr>\n",
       "      <th>0</th>\n",
       "      <td>0</td>\n",
       "      <td>AA56273</td>\n",
       "      <td>1</td>\n",
       "      <td>F</td>\n",
       "      <td>83</td>\n",
       "      <td>W</td>\n",
       "      <td>UNA</td>\n",
       "      <td>1984</td>\n",
       "      <td>1.0</td>\n",
       "      <td>0.875</td>\n",
       "      <td>1</td>\n",
       "      <td>1</td>\n",
       "      <td>1</td>\n",
       "      <td>1</td>\n",
       "      <td>1</td>\n",
       "      <td>1</td>\n",
       "      <td>1</td>\n",
       "      <td>1</td>\n",
       "      <td>1</td>\n",
       "    </tr>\n",
       "    <tr>\n",
       "      <th>1</th>\n",
       "      <td>1</td>\n",
       "      <td>AA201627</td>\n",
       "      <td>1</td>\n",
       "      <td>F</td>\n",
       "      <td>40</td>\n",
       "      <td>W</td>\n",
       "      <td>UNA</td>\n",
       "      <td>2018</td>\n",
       "      <td>0.0</td>\n",
       "      <td>0.000</td>\n",
       "      <td>0</td>\n",
       "      <td>0</td>\n",
       "      <td>0</td>\n",
       "      <td>0</td>\n",
       "      <td>0</td>\n",
       "      <td>0</td>\n",
       "      <td>0</td>\n",
       "      <td>0</td>\n",
       "      <td>0</td>\n",
       "    </tr>\n",
       "    <tr>\n",
       "      <th>2</th>\n",
       "      <td>2</td>\n",
       "      <td>AA98377</td>\n",
       "      <td>1</td>\n",
       "      <td>F</td>\n",
       "      <td>42</td>\n",
       "      <td>W</td>\n",
       "      <td>UNA</td>\n",
       "      <td>1996</td>\n",
       "      <td>1.0</td>\n",
       "      <td>0.500</td>\n",
       "      <td>1</td>\n",
       "      <td>1</td>\n",
       "      <td>1</td>\n",
       "      <td>1</td>\n",
       "      <td>1</td>\n",
       "      <td>1</td>\n",
       "      <td>1</td>\n",
       "      <td>1</td>\n",
       "      <td>1</td>\n",
       "    </tr>\n",
       "    <tr>\n",
       "      <th>3</th>\n",
       "      <td>3</td>\n",
       "      <td>AA69747</td>\n",
       "      <td>1</td>\n",
       "      <td>F</td>\n",
       "      <td>73</td>\n",
       "      <td>W</td>\n",
       "      <td>UNA</td>\n",
       "      <td>1989</td>\n",
       "      <td>1.0</td>\n",
       "      <td>0.250</td>\n",
       "      <td>1</td>\n",
       "      <td>1</td>\n",
       "      <td>1</td>\n",
       "      <td>1</td>\n",
       "      <td>1</td>\n",
       "      <td>1</td>\n",
       "      <td>1</td>\n",
       "      <td>1</td>\n",
       "      <td>1</td>\n",
       "    </tr>\n",
       "    <tr>\n",
       "      <th>4</th>\n",
       "      <td>4</td>\n",
       "      <td>AA170513</td>\n",
       "      <td>1</td>\n",
       "      <td>M</td>\n",
       "      <td>70</td>\n",
       "      <td>W</td>\n",
       "      <td>DEM</td>\n",
       "      <td>2012</td>\n",
       "      <td>1.0</td>\n",
       "      <td>0.000</td>\n",
       "      <td>0</td>\n",
       "      <td>0</td>\n",
       "      <td>0</td>\n",
       "      <td>0</td>\n",
       "      <td>1</td>\n",
       "      <td>1</td>\n",
       "      <td>1</td>\n",
       "      <td>1</td>\n",
       "      <td>1</td>\n",
       "    </tr>\n",
       "  </tbody>\n",
       "</table>\n",
       "</div>"
      ],
      "text/plain": [
       "   Unnamed: 0      ncid  county gender  age race party  rYear  vdex  vmethod  \\\n",
       "0           0   AA56273       1      F   83    W   UNA   1984   1.0    0.875   \n",
       "1           1  AA201627       1      F   40    W   UNA   2018   0.0    0.000   \n",
       "2           2   AA98377       1      F   42    W   UNA   1996   1.0    0.500   \n",
       "3           3   AA69747       1      F   73    W   UNA   1989   1.0    0.250   \n",
       "4           4  AA170513       1      M   70    W   DEM   2012   1.0    0.000   \n",
       "\n",
       "   11022004  11072006  11042008  11022010  11062012  11042014  11082016  \\\n",
       "0         1         1         1         1         1         1         1   \n",
       "1         0         0         0         0         0         0         0   \n",
       "2         1         1         1         1         1         1         1   \n",
       "3         1         1         1         1         1         1         1   \n",
       "4         0         0         0         0         1         1         1   \n",
       "\n",
       "   11062018  pvote  \n",
       "0         1      1  \n",
       "1         0      0  \n",
       "2         1      1  \n",
       "3         1      1  \n",
       "4         1      1  "
      ]
     },
     "execution_count": 78,
     "metadata": {},
     "output_type": "execute_result"
    }
   ],
   "source": [
    "test_r = df0301.join(predVotes)\n",
    "test_r.head()"
   ]
  },
  {
   "cell_type": "code",
   "execution_count": 69,
   "metadata": {},
   "outputs": [
    {
     "data": {
      "text/plain": [
       "11062018\n",
       "0      65864\n",
       "1    3672439\n",
       "Name: pvote, dtype: int64"
      ]
     },
     "execution_count": 69,
     "metadata": {},
     "output_type": "execute_result"
    }
   ],
   "source": [
    "FPTot =  test_r.groupby(['11062018'])['pvote'].sum()\n",
    "FPTot"
   ]
  },
  {
   "cell_type": "code",
   "execution_count": 70,
   "metadata": {},
   "outputs": [
    {
     "data": {
      "text/plain": [
       "11062018\n",
       "0     1.795228\n",
       "1    97.865497\n",
       "Name: pvote, dtype: float64"
      ]
     },
     "execution_count": 70,
     "metadata": {},
     "output_type": "execute_result"
    }
   ],
   "source": [
    "FPPct = test_r.groupby(['11062018'])['pvote'].mean()*100\n",
    "FPPct"
   ]
  },
  {
   "cell_type": "markdown",
   "metadata": {},
   "source": [
    "### Predicted voting of 3,738,303 shows 65,864 (1.8%) False Positive State"
   ]
  },
  {
   "cell_type": "code",
   "execution_count": 79,
   "metadata": {},
   "outputs": [
    {
     "data": {
      "text/plain": [
       "pvote\n",
       "0      80098\n",
       "1    3672439\n",
       "Name: 11062018, dtype: int64"
      ]
     },
     "execution_count": 79,
     "metadata": {},
     "output_type": "execute_result"
    }
   ],
   "source": [
    "FNTot = test_r.groupby(['pvote'])['11062018'].sum()\n",
    "FNTot"
   ]
  },
  {
   "cell_type": "code",
   "execution_count": 80,
   "metadata": {},
   "outputs": [
    {
     "data": {
      "text/plain": [
       "pvote\n",
       "0     2.174761\n",
       "1    98.238131\n",
       "Name: 11062018, dtype: float64"
      ]
     },
     "execution_count": 80,
     "metadata": {},
     "output_type": "execute_result"
    }
   ],
   "source": [
    "FNPct =  test_r.groupby(['pvote'])['11062018'].mean()*100\n",
    "FNPct"
   ]
  },
  {
   "cell_type": "markdown",
   "metadata": {},
   "source": [
    "### Predicted voting of 3,738,303 shows 80,098 (2.2%) False Negative State"
   ]
  },
  {
   "cell_type": "markdown",
   "metadata": {},
   "source": [
    "## Create and plot Confusion Matrix based on scikit-learn documentation code ##"
   ]
  },
  {
   "cell_type": "code",
   "execution_count": 73,
   "metadata": {},
   "outputs": [],
   "source": [
    "y_actual = test_r['11062018']\n",
    "y_pred = predVotes['pvote']\n",
    "class_names = y_pred.values"
   ]
  },
  {
   "cell_type": "code",
   "execution_count": 89,
   "metadata": {},
   "outputs": [
    {
     "name": "stdout",
     "output_type": "stream",
     "text": [
      "Confusion matrix, without normalization\n",
      "[[3602973   65864]\n",
      " [  80098 3672439]]\n",
      "Normalized confusion matrix\n",
      "[[0.98 0.02]\n",
      " [0.02 0.98]]\n"
     ]
    },
    {
     "data": {
      "image/png": "[encoded data removed]",
      "text/plain": [
       "<Figure size 432x288 with 2 Axes>"
      ]
     },
     "metadata": {},
     "output_type": "display_data"
    },
    {
     "data": {
      "image/png": "[encoded data removed]",
      "text/plain": [
       "<Figure size 432x288 with 2 Axes>"
      ]
     },
     "metadata": {},
     "output_type": "display_data"
    }
   ],
   "source": [
    "from sklearn.utils.multiclass import unique_labels\n",
    "def plot_confusion_matrix(y_actual, y_pred, classes,\n",
    "                          normalize=False,\n",
    "                          title=None,\n",
    "                          cmap=plt.cm.Blues):\n",
    "    \"\"\"\n",
    "    This function prints and plots the confusion matrix.\n",
    "    Normalization can be applied by setting `normalize=True`.\n",
    "    \"\"\"\n",
    "    if not title:\n",
    "        if normalize:\n",
    "            title = 'Normalized confusion matrix'\n",
    "        else:\n",
    "            title = 'Confusion matrix, without normalization'\n",
    "\n",
    "    # calculate confusion matrix\n",
    "    cm = confusion_matrix(y_actual, y_pred)\n",
    "    # Only use the labels that appear in the data\n",
    "    classes = classes[unique_labels(y_actual, y_pred)]\n",
    "    if normalize:\n",
    "        cm = cm.astype('float') / cm.sum(axis=1)[:, np.newaxis]\n",
    "        print(\"Normalized confusion matrix\")\n",
    "    else:\n",
    "        print('Confusion matrix, without normalization')\n",
    "\n",
    "    print(cm)\n",
    "\n",
    "    fig, ax = plt.subplots()\n",
    "    im = ax.imshow(cm, interpolation='nearest', cmap=cmap)\n",
    "    ax.figure.colorbar(im, ax=ax)\n",
    "    # We want to show all ticks...\n",
    "    ax.set(xticks=np.arange(cm.shape[1]),\n",
    "           yticks=np.arange(cm.shape[0]),\n",
    "           # ... and label them with the respective list entries\n",
    "           xticklabels=classes, yticklabels=classes,\n",
    "           title=title,\n",
    "           ylabel='True label',\n",
    "           xlabel='Predicted label')\n",
    "\n",
    "    # Rotate the tick labels and set their alignment.\n",
    "    plt.setp(ax.get_xticklabels(), rotation=45, ha=\"right\",\n",
    "             rotation_mode=\"anchor\")\n",
    "\n",
    "    # Loop over data dimensions and create text annotations.\n",
    "    fmt = '.4f' if normalize else 'd'\n",
    "    thresh = cm.max() / 2.\n",
    "    for i in range(cm.shape[0]):\n",
    "        for j in range(cm.shape[1]):\n",
    "            ax.text(j, i, format(cm[i, j], fmt),\n",
    "                    ha=\"center\", va=\"center\",\n",
    "                    color=\"white\" if cm[i, j] > thresh else \"black\")\n",
    "    fig.tight_layout()\n",
    "    return ax\n",
    "\n",
    "\n",
    "np.set_printoptions(precision=2)\n",
    "\n",
    "# Plot non-normalized confusion matrix\n",
    "plot_confusion_matrix(y_actual, y_pred, classes=class_names,\n",
    "                      title='Confusion matrix, without normalization')\n",
    "\n",
    "# Plot normalized confusion matrix\n",
    "plot_confusion_matrix(y_actual, y_pred, classes=class_names, normalize=True,\n",
    "                      title='Normalized confusion matrix')\n",
    "\n",
    "plt.show()"
   ]
  },
  {
   "cell_type": "markdown",
   "metadata": {},
   "source": [
    "## Isolate False Positive and False Negative rows to dfs"
   ]
  },
  {
   "cell_type": "code",
   "execution_count": 75,
   "metadata": {},
   "outputs": [
    {
     "data": {
      "text/html": [
       "<div>\n",
       "<style scoped>\n",
       "    .dataframe tbody tr th:only-of-type {\n",
       "        vertical-align: middle;\n",
       "    }\n",
       "\n",
       "    .dataframe tbody tr th {\n",
       "        vertical-align: top;\n",
       "    }\n",
       "\n",
       "    .dataframe thead th {\n",
       "        text-align: right;\n",
       "    }\n",
       "</style>\n",
       "<table border=\"1\" class=\"dataframe\">\n",
       "  <thead>\n",
       "    <tr style=\"text-align: right;\">\n",
       "      <th></th>\n",
       "      <th>Unnamed: 0</th>\n",
       "      <th>ncid</th>\n",
       "      <th>county</th>\n",
       "      <th>gender</th>\n",
       "      <th>age</th>\n",
       "      <th>race</th>\n",
       "      <th>party</th>\n",
       "      <th>rYear</th>\n",
       "      <th>vdex</th>\n",
       "      <th>vmethod</th>\n",
       "      <th>11022004</th>\n",
       "      <th>11072006</th>\n",
       "      <th>11042008</th>\n",
       "      <th>11022010</th>\n",
       "      <th>11062012</th>\n",
       "      <th>11042014</th>\n",
       "      <th>11082016</th>\n",
       "      <th>11062018</th>\n",
       "      <th>pvote</th>\n",
       "    </tr>\n",
       "  </thead>\n",
       "  <tbody>\n",
       "    <tr>\n",
       "      <th>16</th>\n",
       "      <td>16</td>\n",
       "      <td>DE236758</td>\n",
       "      <td>1</td>\n",
       "      <td>M</td>\n",
       "      <td>29</td>\n",
       "      <td>O</td>\n",
       "      <td>UNA</td>\n",
       "      <td>2014</td>\n",
       "      <td>0.333333</td>\n",
       "      <td>1.0</td>\n",
       "      <td>0</td>\n",
       "      <td>0</td>\n",
       "      <td>1</td>\n",
       "      <td>0</td>\n",
       "      <td>0</td>\n",
       "      <td>0</td>\n",
       "      <td>0</td>\n",
       "      <td>0</td>\n",
       "      <td>1</td>\n",
       "    </tr>\n",
       "    <tr>\n",
       "      <th>305</th>\n",
       "      <td>305</td>\n",
       "      <td>BD95809</td>\n",
       "      <td>1</td>\n",
       "      <td>M</td>\n",
       "      <td>53</td>\n",
       "      <td>W</td>\n",
       "      <td>REP</td>\n",
       "      <td>2016</td>\n",
       "      <td>0.500000</td>\n",
       "      <td>1.0</td>\n",
       "      <td>0</td>\n",
       "      <td>0</td>\n",
       "      <td>1</td>\n",
       "      <td>0</td>\n",
       "      <td>0</td>\n",
       "      <td>0</td>\n",
       "      <td>0</td>\n",
       "      <td>0</td>\n",
       "      <td>1</td>\n",
       "    </tr>\n",
       "    <tr>\n",
       "      <th>506</th>\n",
       "      <td>507</td>\n",
       "      <td>AA188046</td>\n",
       "      <td>1</td>\n",
       "      <td>F</td>\n",
       "      <td>20</td>\n",
       "      <td>O</td>\n",
       "      <td>DEM</td>\n",
       "      <td>2018</td>\n",
       "      <td>1.000000</td>\n",
       "      <td>1.0</td>\n",
       "      <td>0</td>\n",
       "      <td>0</td>\n",
       "      <td>0</td>\n",
       "      <td>0</td>\n",
       "      <td>0</td>\n",
       "      <td>0</td>\n",
       "      <td>1</td>\n",
       "      <td>0</td>\n",
       "      <td>1</td>\n",
       "    </tr>\n",
       "    <tr>\n",
       "      <th>530</th>\n",
       "      <td>532</td>\n",
       "      <td>AA191695</td>\n",
       "      <td>1</td>\n",
       "      <td>M</td>\n",
       "      <td>56</td>\n",
       "      <td>U</td>\n",
       "      <td>DEM</td>\n",
       "      <td>2016</td>\n",
       "      <td>0.500000</td>\n",
       "      <td>1.0</td>\n",
       "      <td>0</td>\n",
       "      <td>0</td>\n",
       "      <td>0</td>\n",
       "      <td>0</td>\n",
       "      <td>0</td>\n",
       "      <td>0</td>\n",
       "      <td>1</td>\n",
       "      <td>0</td>\n",
       "      <td>1</td>\n",
       "    </tr>\n",
       "    <tr>\n",
       "      <th>768</th>\n",
       "      <td>770</td>\n",
       "      <td>DS89198</td>\n",
       "      <td>1</td>\n",
       "      <td>F</td>\n",
       "      <td>31</td>\n",
       "      <td>W</td>\n",
       "      <td>UNA</td>\n",
       "      <td>2017</td>\n",
       "      <td>1.000000</td>\n",
       "      <td>0.0</td>\n",
       "      <td>0</td>\n",
       "      <td>0</td>\n",
       "      <td>0</td>\n",
       "      <td>0</td>\n",
       "      <td>0</td>\n",
       "      <td>0</td>\n",
       "      <td>1</td>\n",
       "      <td>0</td>\n",
       "      <td>1</td>\n",
       "    </tr>\n",
       "  </tbody>\n",
       "</table>\n",
       "</div>"
      ],
      "text/plain": [
       "     Unnamed: 0      ncid  county gender  age race party  rYear      vdex  \\\n",
       "16           16  DE236758       1      M   29    O   UNA   2014  0.333333   \n",
       "305         305   BD95809       1      M   53    W   REP   2016  0.500000   \n",
       "506         507  AA188046       1      F   20    O   DEM   2018  1.000000   \n",
       "530         532  AA191695       1      M   56    U   DEM   2016  0.500000   \n",
       "768         770   DS89198       1      F   31    W   UNA   2017  1.000000   \n",
       "\n",
       "     vmethod  11022004  11072006  11042008  11022010  11062012  11042014  \\\n",
       "16       1.0         0         0         1         0         0         0   \n",
       "305      1.0         0         0         1         0         0         0   \n",
       "506      1.0         0         0         0         0         0         0   \n",
       "530      1.0         0         0         0         0         0         0   \n",
       "768      0.0         0         0         0         0         0         0   \n",
       "\n",
       "     11082016  11062018  pvote  \n",
       "16          0         0      1  \n",
       "305         0         0      1  \n",
       "506         1         0      1  \n",
       "530         1         0      1  \n",
       "768         1         0      1  "
      ]
     },
     "execution_count": 75,
     "metadata": {},
     "output_type": "execute_result"
    }
   ],
   "source": [
    "# false positives for exploration\n",
    "FPdf = test_r.loc[test_r['11062018'] < test_r['pvote']]\n",
    "FPdf.head()"
   ]
  },
  {
   "cell_type": "code",
   "execution_count": 76,
   "metadata": {},
   "outputs": [
    {
     "data": {
      "text/html": [
       "<div>\n",
       "<style scoped>\n",
       "    .dataframe tbody tr th:only-of-type {\n",
       "        vertical-align: middle;\n",
       "    }\n",
       "\n",
       "    .dataframe tbody tr th {\n",
       "        vertical-align: top;\n",
       "    }\n",
       "\n",
       "    .dataframe thead th {\n",
       "        text-align: right;\n",
       "    }\n",
       "</style>\n",
       "<table border=\"1\" class=\"dataframe\">\n",
       "  <thead>\n",
       "    <tr style=\"text-align: right;\">\n",
       "      <th></th>\n",
       "      <th>Unnamed: 0</th>\n",
       "      <th>ncid</th>\n",
       "      <th>county</th>\n",
       "      <th>gender</th>\n",
       "      <th>age</th>\n",
       "      <th>race</th>\n",
       "      <th>party</th>\n",
       "      <th>rYear</th>\n",
       "      <th>vdex</th>\n",
       "      <th>vmethod</th>\n",
       "      <th>11022004</th>\n",
       "      <th>11072006</th>\n",
       "      <th>11042008</th>\n",
       "      <th>11022010</th>\n",
       "      <th>11062012</th>\n",
       "      <th>11042014</th>\n",
       "      <th>11082016</th>\n",
       "      <th>11062018</th>\n",
       "      <th>pvote</th>\n",
       "    </tr>\n",
       "  </thead>\n",
       "  <tbody>\n",
       "    <tr>\n",
       "      <th>14</th>\n",
       "      <td>14</td>\n",
       "      <td>AA162459</td>\n",
       "      <td>1</td>\n",
       "      <td>F</td>\n",
       "      <td>67</td>\n",
       "      <td>W</td>\n",
       "      <td>REP</td>\n",
       "      <td>2008</td>\n",
       "      <td>0.333333</td>\n",
       "      <td>1.000000</td>\n",
       "      <td>0</td>\n",
       "      <td>0</td>\n",
       "      <td>0</td>\n",
       "      <td>0</td>\n",
       "      <td>0</td>\n",
       "      <td>0</td>\n",
       "      <td>1</td>\n",
       "      <td>1</td>\n",
       "      <td>0</td>\n",
       "    </tr>\n",
       "    <tr>\n",
       "      <th>64</th>\n",
       "      <td>64</td>\n",
       "      <td>DR80381</td>\n",
       "      <td>1</td>\n",
       "      <td>F</td>\n",
       "      <td>54</td>\n",
       "      <td>W</td>\n",
       "      <td>UNA</td>\n",
       "      <td>2015</td>\n",
       "      <td>1.000000</td>\n",
       "      <td>0.333333</td>\n",
       "      <td>0</td>\n",
       "      <td>1</td>\n",
       "      <td>1</td>\n",
       "      <td>1</td>\n",
       "      <td>0</td>\n",
       "      <td>1</td>\n",
       "      <td>1</td>\n",
       "      <td>1</td>\n",
       "      <td>0</td>\n",
       "    </tr>\n",
       "    <tr>\n",
       "      <th>90</th>\n",
       "      <td>90</td>\n",
       "      <td>BY517955</td>\n",
       "      <td>1</td>\n",
       "      <td>M</td>\n",
       "      <td>55</td>\n",
       "      <td>B</td>\n",
       "      <td>DEM</td>\n",
       "      <td>2017</td>\n",
       "      <td>1.000000</td>\n",
       "      <td>0.000000</td>\n",
       "      <td>0</td>\n",
       "      <td>0</td>\n",
       "      <td>1</td>\n",
       "      <td>0</td>\n",
       "      <td>0</td>\n",
       "      <td>0</td>\n",
       "      <td>1</td>\n",
       "      <td>1</td>\n",
       "      <td>0</td>\n",
       "    </tr>\n",
       "    <tr>\n",
       "      <th>171</th>\n",
       "      <td>171</td>\n",
       "      <td>AA2083</td>\n",
       "      <td>1</td>\n",
       "      <td>M</td>\n",
       "      <td>63</td>\n",
       "      <td>W</td>\n",
       "      <td>UNA</td>\n",
       "      <td>1980</td>\n",
       "      <td>0.250000</td>\n",
       "      <td>0.000000</td>\n",
       "      <td>0</td>\n",
       "      <td>0</td>\n",
       "      <td>0</td>\n",
       "      <td>0</td>\n",
       "      <td>0</td>\n",
       "      <td>0</td>\n",
       "      <td>1</td>\n",
       "      <td>1</td>\n",
       "      <td>0</td>\n",
       "    </tr>\n",
       "    <tr>\n",
       "      <th>183</th>\n",
       "      <td>183</td>\n",
       "      <td>BN330809</td>\n",
       "      <td>1</td>\n",
       "      <td>M</td>\n",
       "      <td>33</td>\n",
       "      <td>W</td>\n",
       "      <td>UNA</td>\n",
       "      <td>2012</td>\n",
       "      <td>1.000000</td>\n",
       "      <td>1.000000</td>\n",
       "      <td>1</td>\n",
       "      <td>0</td>\n",
       "      <td>1</td>\n",
       "      <td>0</td>\n",
       "      <td>0</td>\n",
       "      <td>0</td>\n",
       "      <td>1</td>\n",
       "      <td>1</td>\n",
       "      <td>0</td>\n",
       "    </tr>\n",
       "  </tbody>\n",
       "</table>\n",
       "</div>"
      ],
      "text/plain": [
       "     Unnamed: 0      ncid  county gender  age race party  rYear      vdex  \\\n",
       "14           14  AA162459       1      F   67    W   REP   2008  0.333333   \n",
       "64           64   DR80381       1      F   54    W   UNA   2015  1.000000   \n",
       "90           90  BY517955       1      M   55    B   DEM   2017  1.000000   \n",
       "171         171    AA2083       1      M   63    W   UNA   1980  0.250000   \n",
       "183         183  BN330809       1      M   33    W   UNA   2012  1.000000   \n",
       "\n",
       "      vmethod  11022004  11072006  11042008  11022010  11062012  11042014  \\\n",
       "14   1.000000         0         0         0         0         0         0   \n",
       "64   0.333333         0         1         1         1         0         1   \n",
       "90   0.000000         0         0         1         0         0         0   \n",
       "171  0.000000         0         0         0         0         0         0   \n",
       "183  1.000000         1         0         1         0         0         0   \n",
       "\n",
       "     11082016  11062018  pvote  \n",
       "14          1         1      0  \n",
       "64          1         1      0  \n",
       "90          1         1      0  \n",
       "171         1         1      0  \n",
       "183         1         1      0  "
      ]
     },
     "execution_count": 76,
     "metadata": {},
     "output_type": "execute_result"
    }
   ],
   "source": [
    "false negatives for exploration\n",
    "FNdf = test_r.loc[test_r['11062018'] > test_r['pvote']]\n",
    "FNdf.head()"
   ]
  },
  {
   "cell_type": "markdown",
   "metadata": {},
   "source": [
    "### Load cutdown version of voters set for access to additional voter data including precinct and zip5 geography, ethnic coding and birth state."
   ]
  },
  {
   "cell_type": "code",
   "execution_count": 87,
   "metadata": {},
   "outputs": [
    {
     "name": "stderr",
     "output_type": "stream",
     "text": [
      "C:\\Users\\selli\\Anaconda36\\lib\\site-packages\\IPython\\core\\interactiveshell.py:2785: DtypeWarning: Columns (3) have mixed types. Specify dtype option on import or set low_memory=False.\n",
      "  interactivity=interactivity, compiler=compiler, result=result)\n"
     ]
    }
   ],
   "source": [
    "votersFinal = pd.read_csv('votersFinal.dat',  sep='|', dtype={ 'zip_code': 'str',\n",
    "                                                              'ncid': 'str',\n",
    "                                                              'vtd_abbr': 'str',\n",
    "                                                              'voter_reg_num': 'str',\n",
    "                                                              'ballots': 'int'\n",
    "                                                             })"
   ]
  },
  {
   "cell_type": "code",
   "execution_count": 88,
   "metadata": {},
   "outputs": [
    {
     "data": {
      "text/html": [
       "<div>\n",
       "<style scoped>\n",
       "    .dataframe tbody tr th:only-of-type {\n",
       "        vertical-align: middle;\n",
       "    }\n",
       "\n",
       "    .dataframe tbody tr th {\n",
       "        vertical-align: top;\n",
       "    }\n",
       "\n",
       "    .dataframe thead th {\n",
       "        text-align: right;\n",
       "    }\n",
       "</style>\n",
       "<table border=\"1\" class=\"dataframe\">\n",
       "  <thead>\n",
       "    <tr style=\"text-align: right;\">\n",
       "      <th></th>\n",
       "      <th>ncid</th>\n",
       "      <th>county_id</th>\n",
       "      <th>vtd_abbrv</th>\n",
       "      <th>zip_code</th>\n",
       "      <th>gender_code</th>\n",
       "      <th>birth_age</th>\n",
       "      <th>race_code</th>\n",
       "      <th>ethnic_code</th>\n",
       "      <th>party_cd</th>\n",
       "      <th>birth_state</th>\n",
       "      <th>rYear</th>\n",
       "      <th>eligible</th>\n",
       "      <th>ballots</th>\n",
       "      <th>vdex</th>\n",
       "    </tr>\n",
       "  </thead>\n",
       "  <tbody>\n",
       "    <tr>\n",
       "      <th>0</th>\n",
       "      <td>AA56273</td>\n",
       "      <td>1</td>\n",
       "      <td>08N</td>\n",
       "      <td>27253.0</td>\n",
       "      <td>F</td>\n",
       "      <td>83</td>\n",
       "      <td>W</td>\n",
       "      <td>NL</td>\n",
       "      <td>UNA</td>\n",
       "      <td>NY</td>\n",
       "      <td>1984</td>\n",
       "      <td>8</td>\n",
       "      <td>8</td>\n",
       "      <td>1.0</td>\n",
       "    </tr>\n",
       "    <tr>\n",
       "      <th>1</th>\n",
       "      <td>AA201627</td>\n",
       "      <td>1</td>\n",
       "      <td>10N</td>\n",
       "      <td>27302.0</td>\n",
       "      <td>F</td>\n",
       "      <td>40</td>\n",
       "      <td>W</td>\n",
       "      <td>UN</td>\n",
       "      <td>UNA</td>\n",
       "      <td>DC</td>\n",
       "      <td>2018</td>\n",
       "      <td>1</td>\n",
       "      <td>0</td>\n",
       "      <td>0.0</td>\n",
       "    </tr>\n",
       "    <tr>\n",
       "      <th>2</th>\n",
       "      <td>AA98377</td>\n",
       "      <td>1</td>\n",
       "      <td>03S</td>\n",
       "      <td>27215.0</td>\n",
       "      <td>F</td>\n",
       "      <td>42</td>\n",
       "      <td>W</td>\n",
       "      <td>UN</td>\n",
       "      <td>UNA</td>\n",
       "      <td>NC</td>\n",
       "      <td>1996</td>\n",
       "      <td>8</td>\n",
       "      <td>8</td>\n",
       "      <td>1.0</td>\n",
       "    </tr>\n",
       "    <tr>\n",
       "      <th>3</th>\n",
       "      <td>AA69747</td>\n",
       "      <td>1</td>\n",
       "      <td>124</td>\n",
       "      <td>27215.0</td>\n",
       "      <td>F</td>\n",
       "      <td>73</td>\n",
       "      <td>W</td>\n",
       "      <td>NL</td>\n",
       "      <td>UNA</td>\n",
       "      <td>VA</td>\n",
       "      <td>1989</td>\n",
       "      <td>8</td>\n",
       "      <td>8</td>\n",
       "      <td>1.0</td>\n",
       "    </tr>\n",
       "    <tr>\n",
       "      <th>4</th>\n",
       "      <td>AA170513</td>\n",
       "      <td>1</td>\n",
       "      <td>08N</td>\n",
       "      <td>27253.0</td>\n",
       "      <td>M</td>\n",
       "      <td>70</td>\n",
       "      <td>W</td>\n",
       "      <td>UN</td>\n",
       "      <td>DEM</td>\n",
       "      <td>MA</td>\n",
       "      <td>2012</td>\n",
       "      <td>4</td>\n",
       "      <td>4</td>\n",
       "      <td>1.0</td>\n",
       "    </tr>\n",
       "  </tbody>\n",
       "</table>\n",
       "</div>"
      ],
      "text/plain": [
       "       ncid  county_id vtd_abbrv zip_code gender_code  birth_age race_code  \\\n",
       "0   AA56273          1       08N  27253.0           F         83         W   \n",
       "1  AA201627          1       10N  27302.0           F         40         W   \n",
       "2   AA98377          1       03S  27215.0           F         42         W   \n",
       "3   AA69747          1       124  27215.0           F         73         W   \n",
       "4  AA170513          1       08N  27253.0           M         70         W   \n",
       "\n",
       "  ethnic_code party_cd birth_state  rYear  eligible  ballots  vdex  \n",
       "0          NL      UNA          NY   1984         8        8   1.0  \n",
       "1          UN      UNA          DC   2018         1        0   0.0  \n",
       "2          UN      UNA          NC   1996         8        8   1.0  \n",
       "3          NL      UNA          VA   1989         8        8   1.0  \n",
       "4          UN      DEM          MA   2012         4        4   1.0  "
      ]
     },
     "execution_count": 88,
     "metadata": {},
     "output_type": "execute_result"
    }
   ],
   "source": [
    "del votersFinal['Unnamed: 0']\n",
    "votersFinal.head()"
   ]
  },
  {
   "cell_type": "markdown",
   "metadata": {},
   "source": [
    "### Additional exploration will begin with a look at False Negative cases."
   ]
  },
  {
   "cell_type": "code",
   "execution_count": null,
   "metadata": {},
   "outputs": [],
   "source": []
  }
 ],
 "metadata": {
  "kernelspec": {
   "display_name": "Python 3",
   "language": "python",
   "name": "python3"
  },
  "language_info": {
   "codemirror_mode": {
    "name": "ipython",
    "version": 3
   },
   "file_extension": ".py",
   "mimetype": "text/x-python",
   "name": "python",
   "nbconvert_exporter": "python",
   "pygments_lexer": "ipython3",
   "version": "3.6.5"
  }
 },
 "nbformat": 4,
 "nbformat_minor": 2
}
